{
  "nbformat": 4,
  "nbformat_minor": 0,
  "metadata": {
    "colab": {
      "provenance": []
    },
    "kernelspec": {
      "name": "python3",
      "display_name": "Python 3"
    },
    "language_info": {
      "name": "python"
    }
  },
  "cells": [
    {
      "cell_type": "markdown",
      "source": [
        "##Valores nulos Gastos 2022\n",
        "##Ruth Maya \n",
        "##Valeria Medina \n",
        "##Leonardo Isaias "
      ],
      "metadata": {
        "id": "qQntnLTQjoy8"
      }
    },
    {
      "cell_type": "code",
      "execution_count": 16,
      "metadata": {
        "id": "OZuMpfeujjV-"
      },
      "outputs": [],
      "source": [
        "import pandas as pd\n",
        "import numpy as np\n",
        "import matplotlib.pyplot as plt\n",
        "import seaborn as sns"
      ]
    },
    {
      "cell_type": "code",
      "source": [
        "g22 = pd.read_excel('Gastos y costos 20-23.xlsx', sheet_name=\"2022\",skiprows=3)"
      ],
      "metadata": {
        "id": "VdY9lGe6jmz6"
      },
      "execution_count": 17,
      "outputs": []
    },
    {
      "cell_type": "code",
      "source": [
        "#Verificamos información del DataFrame\n",
        "g22.info()"
      ],
      "metadata": {
        "colab": {
          "base_uri": "https://localhost:8080/"
        },
        "id": "BTW4WCVtkCJc",
        "outputId": "ba6eafed-f9cb-495c-b562-212c7329902e"
      },
      "execution_count": 18,
      "outputs": [
        {
          "output_type": "stream",
          "name": "stdout",
          "text": [
            "<class 'pandas.core.frame.DataFrame'>\n",
            "RangeIndex: 2577 entries, 0 to 2576\n",
            "Data columns (total 19 columns):\n",
            " #   Column       Non-Null Count  Dtype         \n",
            "---  ------       --------------  -----         \n",
            " 0   Fecha        2577 non-null   datetime64[ns]\n",
            " 1   Folio        2475 non-null   object        \n",
            " 2   UUID         2577 non-null   object        \n",
            " 3   RFC          2577 non-null   object        \n",
            " 4   Proveedor    2577 non-null   object        \n",
            " 5   TIPO GASTO   2577 non-null   object        \n",
            " 6   Descripción  2577 non-null   object        \n",
            " 7   MP           2024 non-null   object        \n",
            " 8   TC           1941 non-null   float64       \n",
            " 9   Importe      2577 non-null   float64       \n",
            " 10  IVA          2577 non-null   float64       \n",
            " 11  RET ISR      2577 non-null   float64       \n",
            " 12  RET IVA      2577 non-null   float64       \n",
            " 13  Otros        0 non-null      float64       \n",
            " 14  TOTAL MX     2577 non-null   float64       \n",
            " 15  TOTAL SAT    2577 non-null   float64       \n",
            " 16  Tipo         2577 non-null   object        \n",
            " 17  Status       2577 non-null   object        \n",
            " 18  Poliza       1776 non-null   object        \n",
            "dtypes: datetime64[ns](1), float64(8), object(10)\n",
            "memory usage: 382.6+ KB\n"
          ]
        }
      ]
    },
    {
      "cell_type": "code",
      "source": [
        "g22.head()"
      ],
      "metadata": {
        "colab": {
          "base_uri": "https://localhost:8080/",
          "height": 600
        },
        "id": "UNpXY3zHkGUA",
        "outputId": "e42b0cce-7982-44fc-9632-60394651a436"
      },
      "execution_count": 19,
      "outputs": [
        {
          "output_type": "execute_result",
          "data": {
            "text/plain": [
              "       Fecha         Folio                                  UUID  \\\n",
              "0 2022-01-01        280108  9DA0E63F-1D47-441F-93D7-C2E05AE4D35E   \n",
              "1 2022-01-01        280109  7E00E776-A839-4D57-B291-411109164B2F   \n",
              "2 2022-01-01  007817297284  BB6585C1-3B54-4130-AFD0-1867C3764821   \n",
              "3 2022-01-01          5595  B5E4B4EB-6C2F-11EC-BB9D-00155D014009   \n",
              "4 2022-01-01          5614  BB6756D1-6CCD-11EC-947D-00155D014407   \n",
              "\n",
              "             RFC                         Proveedor                TIPO GASTO  \\\n",
              "0   BLE1512082R9      BEPENSA LEASING S.A. DE C.V.  ARRENDAMIENTO FINANCIERO   \n",
              "1   BLE1512082R9      BEPENSA LEASING S.A. DE C.V.  ARRENDAMIENTO FINANCIERO   \n",
              "2   BNM840515VB1    BANCO NACIONAL DE MEXICO, S.A.         COMISION BANCARIA   \n",
              "3  ZEGC530520V4A  CARLOS ENRIQUE ZERMEÑO GUTIERREZ                   COMPRAS   \n",
              "4  ZEGC530520V4A  CARLOS ENRIQUE ZERMEÑO GUTIERREZ                   COMPRAS   \n",
              "\n",
              "                                         Descripción   MP   TC  Importe  \\\n",
              "0  AA RENTA EXIGIBLE CL0000006876 18/36 de 03/12/...  PPD  1.0  5551.38   \n",
              "1  AA RENTA EXIGIBLE CL0000006877 18/36 de 03/12/...  PPD  1.0  5551.98   \n",
              "2                           Servicios de Facturación  PUE  1.0     0.00   \n",
              "3                                               Pago  NaN  1.0     0.00   \n",
              "4                                               Pago  NaN  1.0     0.00   \n",
              "\n",
              "      IVA  RET ISR  RET IVA  Otros  TOTAL MX  TOTAL SAT Tipo   Status  \\\n",
              "0  888.22      0.0      0.0    NaN    6439.6     6439.6    I  Vigente   \n",
              "1  888.32      0.0      0.0    NaN    6440.3     6440.3    I  Vigente   \n",
              "2    0.00      0.0      0.0    NaN       0.0        0.0    I  Vigente   \n",
              "3    0.00      0.0      0.0    NaN       0.0        0.0    P  Vigente   \n",
              "4    0.00      0.0      0.0    NaN       0.0        0.0    P  Vigente   \n",
              "\n",
              "       Poliza  \n",
              "0  PE02-ENE22  \n",
              "1  PE03-ENE22  \n",
              "2         NaN  \n",
              "3         NaN  \n",
              "4         NaN  "
            ],
            "text/html": [
              "\n",
              "  <div id=\"df-63234341-81ef-4964-8312-276807904905\">\n",
              "    <div class=\"colab-df-container\">\n",
              "      <div>\n",
              "<style scoped>\n",
              "    .dataframe tbody tr th:only-of-type {\n",
              "        vertical-align: middle;\n",
              "    }\n",
              "\n",
              "    .dataframe tbody tr th {\n",
              "        vertical-align: top;\n",
              "    }\n",
              "\n",
              "    .dataframe thead th {\n",
              "        text-align: right;\n",
              "    }\n",
              "</style>\n",
              "<table border=\"1\" class=\"dataframe\">\n",
              "  <thead>\n",
              "    <tr style=\"text-align: right;\">\n",
              "      <th></th>\n",
              "      <th>Fecha</th>\n",
              "      <th>Folio</th>\n",
              "      <th>UUID</th>\n",
              "      <th>RFC</th>\n",
              "      <th>Proveedor</th>\n",
              "      <th>TIPO GASTO</th>\n",
              "      <th>Descripción</th>\n",
              "      <th>MP</th>\n",
              "      <th>TC</th>\n",
              "      <th>Importe</th>\n",
              "      <th>IVA</th>\n",
              "      <th>RET ISR</th>\n",
              "      <th>RET IVA</th>\n",
              "      <th>Otros</th>\n",
              "      <th>TOTAL MX</th>\n",
              "      <th>TOTAL SAT</th>\n",
              "      <th>Tipo</th>\n",
              "      <th>Status</th>\n",
              "      <th>Poliza</th>\n",
              "    </tr>\n",
              "  </thead>\n",
              "  <tbody>\n",
              "    <tr>\n",
              "      <th>0</th>\n",
              "      <td>2022-01-01</td>\n",
              "      <td>280108</td>\n",
              "      <td>9DA0E63F-1D47-441F-93D7-C2E05AE4D35E</td>\n",
              "      <td>BLE1512082R9</td>\n",
              "      <td>BEPENSA LEASING S.A. DE C.V.</td>\n",
              "      <td>ARRENDAMIENTO FINANCIERO</td>\n",
              "      <td>AA RENTA EXIGIBLE CL0000006876 18/36 de 03/12/...</td>\n",
              "      <td>PPD</td>\n",
              "      <td>1.0</td>\n",
              "      <td>5551.38</td>\n",
              "      <td>888.22</td>\n",
              "      <td>0.0</td>\n",
              "      <td>0.0</td>\n",
              "      <td>NaN</td>\n",
              "      <td>6439.6</td>\n",
              "      <td>6439.6</td>\n",
              "      <td>I</td>\n",
              "      <td>Vigente</td>\n",
              "      <td>PE02-ENE22</td>\n",
              "    </tr>\n",
              "    <tr>\n",
              "      <th>1</th>\n",
              "      <td>2022-01-01</td>\n",
              "      <td>280109</td>\n",
              "      <td>7E00E776-A839-4D57-B291-411109164B2F</td>\n",
              "      <td>BLE1512082R9</td>\n",
              "      <td>BEPENSA LEASING S.A. DE C.V.</td>\n",
              "      <td>ARRENDAMIENTO FINANCIERO</td>\n",
              "      <td>AA RENTA EXIGIBLE CL0000006877 18/36 de 03/12/...</td>\n",
              "      <td>PPD</td>\n",
              "      <td>1.0</td>\n",
              "      <td>5551.98</td>\n",
              "      <td>888.32</td>\n",
              "      <td>0.0</td>\n",
              "      <td>0.0</td>\n",
              "      <td>NaN</td>\n",
              "      <td>6440.3</td>\n",
              "      <td>6440.3</td>\n",
              "      <td>I</td>\n",
              "      <td>Vigente</td>\n",
              "      <td>PE03-ENE22</td>\n",
              "    </tr>\n",
              "    <tr>\n",
              "      <th>2</th>\n",
              "      <td>2022-01-01</td>\n",
              "      <td>007817297284</td>\n",
              "      <td>BB6585C1-3B54-4130-AFD0-1867C3764821</td>\n",
              "      <td>BNM840515VB1</td>\n",
              "      <td>BANCO NACIONAL DE MEXICO, S.A.</td>\n",
              "      <td>COMISION BANCARIA</td>\n",
              "      <td>Servicios de Facturación</td>\n",
              "      <td>PUE</td>\n",
              "      <td>1.0</td>\n",
              "      <td>0.00</td>\n",
              "      <td>0.00</td>\n",
              "      <td>0.0</td>\n",
              "      <td>0.0</td>\n",
              "      <td>NaN</td>\n",
              "      <td>0.0</td>\n",
              "      <td>0.0</td>\n",
              "      <td>I</td>\n",
              "      <td>Vigente</td>\n",
              "      <td>NaN</td>\n",
              "    </tr>\n",
              "    <tr>\n",
              "      <th>3</th>\n",
              "      <td>2022-01-01</td>\n",
              "      <td>5595</td>\n",
              "      <td>B5E4B4EB-6C2F-11EC-BB9D-00155D014009</td>\n",
              "      <td>ZEGC530520V4A</td>\n",
              "      <td>CARLOS ENRIQUE ZERMEÑO GUTIERREZ</td>\n",
              "      <td>COMPRAS</td>\n",
              "      <td>Pago</td>\n",
              "      <td>NaN</td>\n",
              "      <td>1.0</td>\n",
              "      <td>0.00</td>\n",
              "      <td>0.00</td>\n",
              "      <td>0.0</td>\n",
              "      <td>0.0</td>\n",
              "      <td>NaN</td>\n",
              "      <td>0.0</td>\n",
              "      <td>0.0</td>\n",
              "      <td>P</td>\n",
              "      <td>Vigente</td>\n",
              "      <td>NaN</td>\n",
              "    </tr>\n",
              "    <tr>\n",
              "      <th>4</th>\n",
              "      <td>2022-01-01</td>\n",
              "      <td>5614</td>\n",
              "      <td>BB6756D1-6CCD-11EC-947D-00155D014407</td>\n",
              "      <td>ZEGC530520V4A</td>\n",
              "      <td>CARLOS ENRIQUE ZERMEÑO GUTIERREZ</td>\n",
              "      <td>COMPRAS</td>\n",
              "      <td>Pago</td>\n",
              "      <td>NaN</td>\n",
              "      <td>1.0</td>\n",
              "      <td>0.00</td>\n",
              "      <td>0.00</td>\n",
              "      <td>0.0</td>\n",
              "      <td>0.0</td>\n",
              "      <td>NaN</td>\n",
              "      <td>0.0</td>\n",
              "      <td>0.0</td>\n",
              "      <td>P</td>\n",
              "      <td>Vigente</td>\n",
              "      <td>NaN</td>\n",
              "    </tr>\n",
              "  </tbody>\n",
              "</table>\n",
              "</div>\n",
              "      <button class=\"colab-df-convert\" onclick=\"convertToInteractive('df-63234341-81ef-4964-8312-276807904905')\"\n",
              "              title=\"Convert this dataframe to an interactive table.\"\n",
              "              style=\"display:none;\">\n",
              "        \n",
              "  <svg xmlns=\"http://www.w3.org/2000/svg\" height=\"24px\"viewBox=\"0 0 24 24\"\n",
              "       width=\"24px\">\n",
              "    <path d=\"M0 0h24v24H0V0z\" fill=\"none\"/>\n",
              "    <path d=\"M18.56 5.44l.94 2.06.94-2.06 2.06-.94-2.06-.94-.94-2.06-.94 2.06-2.06.94zm-11 1L8.5 8.5l.94-2.06 2.06-.94-2.06-.94L8.5 2.5l-.94 2.06-2.06.94zm10 10l.94 2.06.94-2.06 2.06-.94-2.06-.94-.94-2.06-.94 2.06-2.06.94z\"/><path d=\"M17.41 7.96l-1.37-1.37c-.4-.4-.92-.59-1.43-.59-.52 0-1.04.2-1.43.59L10.3 9.45l-7.72 7.72c-.78.78-.78 2.05 0 2.83L4 21.41c.39.39.9.59 1.41.59.51 0 1.02-.2 1.41-.59l7.78-7.78 2.81-2.81c.8-.78.8-2.07 0-2.86zM5.41 20L4 18.59l7.72-7.72 1.47 1.35L5.41 20z\"/>\n",
              "  </svg>\n",
              "      </button>\n",
              "      \n",
              "  <style>\n",
              "    .colab-df-container {\n",
              "      display:flex;\n",
              "      flex-wrap:wrap;\n",
              "      gap: 12px;\n",
              "    }\n",
              "\n",
              "    .colab-df-convert {\n",
              "      background-color: #E8F0FE;\n",
              "      border: none;\n",
              "      border-radius: 50%;\n",
              "      cursor: pointer;\n",
              "      display: none;\n",
              "      fill: #1967D2;\n",
              "      height: 32px;\n",
              "      padding: 0 0 0 0;\n",
              "      width: 32px;\n",
              "    }\n",
              "\n",
              "    .colab-df-convert:hover {\n",
              "      background-color: #E2EBFA;\n",
              "      box-shadow: 0px 1px 2px rgba(60, 64, 67, 0.3), 0px 1px 3px 1px rgba(60, 64, 67, 0.15);\n",
              "      fill: #174EA6;\n",
              "    }\n",
              "\n",
              "    [theme=dark] .colab-df-convert {\n",
              "      background-color: #3B4455;\n",
              "      fill: #D2E3FC;\n",
              "    }\n",
              "\n",
              "    [theme=dark] .colab-df-convert:hover {\n",
              "      background-color: #434B5C;\n",
              "      box-shadow: 0px 1px 3px 1px rgba(0, 0, 0, 0.15);\n",
              "      filter: drop-shadow(0px 1px 2px rgba(0, 0, 0, 0.3));\n",
              "      fill: #FFFFFF;\n",
              "    }\n",
              "  </style>\n",
              "\n",
              "      <script>\n",
              "        const buttonEl =\n",
              "          document.querySelector('#df-63234341-81ef-4964-8312-276807904905 button.colab-df-convert');\n",
              "        buttonEl.style.display =\n",
              "          google.colab.kernel.accessAllowed ? 'block' : 'none';\n",
              "\n",
              "        async function convertToInteractive(key) {\n",
              "          const element = document.querySelector('#df-63234341-81ef-4964-8312-276807904905');\n",
              "          const dataTable =\n",
              "            await google.colab.kernel.invokeFunction('convertToInteractive',\n",
              "                                                     [key], {});\n",
              "          if (!dataTable) return;\n",
              "\n",
              "          const docLinkHtml = 'Like what you see? Visit the ' +\n",
              "            '<a target=\"_blank\" href=https://colab.research.google.com/notebooks/data_table.ipynb>data table notebook</a>'\n",
              "            + ' to learn more about interactive tables.';\n",
              "          element.innerHTML = '';\n",
              "          dataTable['output_type'] = 'display_data';\n",
              "          await google.colab.output.renderOutput(dataTable, element);\n",
              "          const docLink = document.createElement('div');\n",
              "          docLink.innerHTML = docLinkHtml;\n",
              "          element.appendChild(docLink);\n",
              "        }\n",
              "      </script>\n",
              "    </div>\n",
              "  </div>\n",
              "  "
            ]
          },
          "metadata": {},
          "execution_count": 19
        }
      ]
    },
    {
      "cell_type": "code",
      "source": [
        "#CORROBORAR LOS VALORES NULOS INICIALES\n",
        "valores_nulos=g22.isnull().sum()\n",
        "valores_nulos"
      ],
      "metadata": {
        "colab": {
          "base_uri": "https://localhost:8080/"
        },
        "id": "TQv7yPUCkTXb",
        "outputId": "23afbebd-c554-47a6-a7d6-311d03d98303"
      },
      "execution_count": 20,
      "outputs": [
        {
          "output_type": "execute_result",
          "data": {
            "text/plain": [
              "Fecha             0\n",
              "Folio           102\n",
              "UUID              0\n",
              "RFC               0\n",
              "Proveedor         0\n",
              "TIPO GASTO        0\n",
              "Descripción       0\n",
              "MP              553\n",
              "TC              636\n",
              "Importe           0\n",
              "IVA               0\n",
              "RET ISR           0\n",
              "RET IVA           0\n",
              "Otros          2577\n",
              "TOTAL MX          0\n",
              "TOTAL SAT         0\n",
              "Tipo              0\n",
              "Status            0\n",
              "Poliza          801\n",
              "dtype: int64"
            ]
          },
          "metadata": {},
          "execution_count": 20
        }
      ]
    },
    {
      "cell_type": "code",
      "source": [
        "#Reemplazar los valores de folio por 0\n",
        "g22['Folio'] = g22['Folio'] .fillna(0)"
      ],
      "metadata": {
        "id": "MIKeOpVwkYMA"
      },
      "execution_count": 21,
      "outputs": []
    },
    {
      "cell_type": "code",
      "source": [
        "#CORROBORAR LOS VALORES NULOS\n",
        "valores_nulos=g22.isnull().sum()\n",
        "valores_nulos"
      ],
      "metadata": {
        "colab": {
          "base_uri": "https://localhost:8080/"
        },
        "id": "UKJgwhbPke5N",
        "outputId": "134880ac-dd67-4f96-e1f7-979302ace974"
      },
      "execution_count": 22,
      "outputs": [
        {
          "output_type": "execute_result",
          "data": {
            "text/plain": [
              "Fecha             0\n",
              "Folio             0\n",
              "UUID              0\n",
              "RFC               0\n",
              "Proveedor         0\n",
              "TIPO GASTO        0\n",
              "Descripción       0\n",
              "MP              553\n",
              "TC              636\n",
              "Importe           0\n",
              "IVA               0\n",
              "RET ISR           0\n",
              "RET IVA           0\n",
              "Otros          2577\n",
              "TOTAL MX          0\n",
              "TOTAL SAT         0\n",
              "Tipo              0\n",
              "Status            0\n",
              "Poliza          801\n",
              "dtype: int64"
            ]
          },
          "metadata": {},
          "execution_count": 22
        }
      ]
    },
    {
      "cell_type": "code",
      "source": [
        "#Reemplazar los valores de MP por \"--\"\n",
        "g22['MP'] = g22['MP'] .fillna('--')"
      ],
      "metadata": {
        "id": "-7ydlzcIkp6e"
      },
      "execution_count": 23,
      "outputs": []
    },
    {
      "cell_type": "code",
      "source": [
        "#CORROBORAR LOS VALORES NULOS\n",
        "valores_nulos=g22.isnull().sum()\n",
        "valores_nulos"
      ],
      "metadata": {
        "colab": {
          "base_uri": "https://localhost:8080/"
        },
        "id": "_hy-MFYUktQ1",
        "outputId": "6705e8b4-4259-4cfb-ccb2-bf4698e6b3df"
      },
      "execution_count": 24,
      "outputs": [
        {
          "output_type": "execute_result",
          "data": {
            "text/plain": [
              "Fecha             0\n",
              "Folio             0\n",
              "UUID              0\n",
              "RFC               0\n",
              "Proveedor         0\n",
              "TIPO GASTO        0\n",
              "Descripción       0\n",
              "MP                0\n",
              "TC              636\n",
              "Importe           0\n",
              "IVA               0\n",
              "RET ISR           0\n",
              "RET IVA           0\n",
              "Otros          2577\n",
              "TOTAL MX          0\n",
              "TOTAL SAT         0\n",
              "Tipo              0\n",
              "Status            0\n",
              "Poliza          801\n",
              "dtype: int64"
            ]
          },
          "metadata": {},
          "execution_count": 24
        }
      ]
    },
    {
      "cell_type": "code",
      "source": [
        "#Reemplazar los valores de MP por \"--\"\n",
        "g22['TC'] = g22['TC'] .fillna('--')"
      ],
      "metadata": {
        "id": "HczSuTZBkySg"
      },
      "execution_count": 25,
      "outputs": []
    },
    {
      "cell_type": "code",
      "source": [
        "#CORROBORAR LOS VALORES NULOS\n",
        "valores_nulos=g22.isnull().sum()\n",
        "valores_nulos"
      ],
      "metadata": {
        "colab": {
          "base_uri": "https://localhost:8080/"
        },
        "id": "EG6qEzNPk1G0",
        "outputId": "2ef02e47-0e25-46c0-bfa1-755a4ac4c318"
      },
      "execution_count": 26,
      "outputs": [
        {
          "output_type": "execute_result",
          "data": {
            "text/plain": [
              "Fecha             0\n",
              "Folio             0\n",
              "UUID              0\n",
              "RFC               0\n",
              "Proveedor         0\n",
              "TIPO GASTO        0\n",
              "Descripción       0\n",
              "MP                0\n",
              "TC                0\n",
              "Importe           0\n",
              "IVA               0\n",
              "RET ISR           0\n",
              "RET IVA           0\n",
              "Otros          2577\n",
              "TOTAL MX          0\n",
              "TOTAL SAT         0\n",
              "Tipo              0\n",
              "Status            0\n",
              "Poliza          801\n",
              "dtype: int64"
            ]
          },
          "metadata": {},
          "execution_count": 26
        }
      ]
    },
    {
      "cell_type": "code",
      "source": [
        "#Reemplazar los valores de la columna Otros por 0\n",
        "g22['Otros'] = g22['Otros'] .fillna(0)"
      ],
      "metadata": {
        "id": "1jOmuSrNk3en"
      },
      "execution_count": 27,
      "outputs": []
    },
    {
      "cell_type": "code",
      "source": [
        "#CORROBORAR LOS VALORES NULOS\n",
        "valores_nulos=g22.isnull().sum()\n",
        "valores_nulos"
      ],
      "metadata": {
        "colab": {
          "base_uri": "https://localhost:8080/"
        },
        "id": "Zb5V7mI0k9IH",
        "outputId": "189bf355-9139-4fb7-8660-775153f3a918"
      },
      "execution_count": 28,
      "outputs": [
        {
          "output_type": "execute_result",
          "data": {
            "text/plain": [
              "Fecha            0\n",
              "Folio            0\n",
              "UUID             0\n",
              "RFC              0\n",
              "Proveedor        0\n",
              "TIPO GASTO       0\n",
              "Descripción      0\n",
              "MP               0\n",
              "TC               0\n",
              "Importe          0\n",
              "IVA              0\n",
              "RET ISR          0\n",
              "RET IVA          0\n",
              "Otros            0\n",
              "TOTAL MX         0\n",
              "TOTAL SAT        0\n",
              "Tipo             0\n",
              "Status           0\n",
              "Poliza         801\n",
              "dtype: int64"
            ]
          },
          "metadata": {},
          "execution_count": 28
        }
      ]
    },
    {
      "cell_type": "code",
      "source": [
        "#Reemplazar los valores de FP por \"--\"\n",
        "g22['Poliza'] = g22['Poliza'] .fillna('--')"
      ],
      "metadata": {
        "id": "Ad8RLv70k-ml"
      },
      "execution_count": 29,
      "outputs": []
    },
    {
      "cell_type": "code",
      "source": [
        "#CORROBORAR LOS VALORES NULOS\n",
        "valores_nulos=g22.isnull().sum()\n",
        "valores_nulos"
      ],
      "metadata": {
        "colab": {
          "base_uri": "https://localhost:8080/"
        },
        "id": "v8PQS5qKlDaD",
        "outputId": "1a107fab-b6c6-41c6-cdb0-57993732ee98"
      },
      "execution_count": 30,
      "outputs": [
        {
          "output_type": "execute_result",
          "data": {
            "text/plain": [
              "Fecha          0\n",
              "Folio          0\n",
              "UUID           0\n",
              "RFC            0\n",
              "Proveedor      0\n",
              "TIPO GASTO     0\n",
              "Descripción    0\n",
              "MP             0\n",
              "TC             0\n",
              "Importe        0\n",
              "IVA            0\n",
              "RET ISR        0\n",
              "RET IVA        0\n",
              "Otros          0\n",
              "TOTAL MX       0\n",
              "TOTAL SAT      0\n",
              "Tipo           0\n",
              "Status         0\n",
              "Poliza         0\n",
              "dtype: int64"
            ]
          },
          "metadata": {},
          "execution_count": 30
        }
      ]
    },
    {
      "cell_type": "code",
      "source": [
        "g22.to_csv(\"Gastos y costos 20-22_sin_nulos.csv\")\n",
        "from google.colab import files\n",
        "files.download(\"Gastos y costos 20-22_sin_nulos.csv\")"
      ],
      "metadata": {
        "colab": {
          "base_uri": "https://localhost:8080/",
          "height": 17
        },
        "id": "-2MGOfHzlMok",
        "outputId": "470c8158-4527-4eff-b0f6-221c47db7940"
      },
      "execution_count": 31,
      "outputs": [
        {
          "output_type": "display_data",
          "data": {
            "text/plain": [
              "<IPython.core.display.Javascript object>"
            ],
            "application/javascript": [
              "\n",
              "    async function download(id, filename, size) {\n",
              "      if (!google.colab.kernel.accessAllowed) {\n",
              "        return;\n",
              "      }\n",
              "      const div = document.createElement('div');\n",
              "      const label = document.createElement('label');\n",
              "      label.textContent = `Downloading \"${filename}\": `;\n",
              "      div.appendChild(label);\n",
              "      const progress = document.createElement('progress');\n",
              "      progress.max = size;\n",
              "      div.appendChild(progress);\n",
              "      document.body.appendChild(div);\n",
              "\n",
              "      const buffers = [];\n",
              "      let downloaded = 0;\n",
              "\n",
              "      const channel = await google.colab.kernel.comms.open(id);\n",
              "      // Send a message to notify the kernel that we're ready.\n",
              "      channel.send({})\n",
              "\n",
              "      for await (const message of channel.messages) {\n",
              "        // Send a message to notify the kernel that we're ready.\n",
              "        channel.send({})\n",
              "        if (message.buffers) {\n",
              "          for (const buffer of message.buffers) {\n",
              "            buffers.push(buffer);\n",
              "            downloaded += buffer.byteLength;\n",
              "            progress.value = downloaded;\n",
              "          }\n",
              "        }\n",
              "      }\n",
              "      const blob = new Blob(buffers, {type: 'application/binary'});\n",
              "      const a = document.createElement('a');\n",
              "      a.href = window.URL.createObjectURL(blob);\n",
              "      a.download = filename;\n",
              "      div.appendChild(a);\n",
              "      a.click();\n",
              "      div.remove();\n",
              "    }\n",
              "  "
            ]
          },
          "metadata": {}
        },
        {
          "output_type": "display_data",
          "data": {
            "text/plain": [
              "<IPython.core.display.Javascript object>"
            ],
            "application/javascript": [
              "download(\"download_a2f7dac6-e830-43b4-90b4-8f7a41945f06\", \"Gastos y costos 20-22_sin_nulos.csv\", 561023)"
            ]
          },
          "metadata": {}
        }
      ]
    }
  ]
}