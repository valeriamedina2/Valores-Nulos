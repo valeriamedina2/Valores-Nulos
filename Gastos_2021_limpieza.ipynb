{
  "nbformat": 4,
  "nbformat_minor": 0,
  "metadata": {
    "colab": {
      "provenance": []
    },
    "kernelspec": {
      "name": "python3",
      "display_name": "Python 3"
    },
    "language_info": {
      "name": "python"
    }
  },
  "cells": [
    {
      "cell_type": "code",
      "execution_count": 1,
      "metadata": {
        "id": "fp3L8n7q2CIi"
      },
      "outputs": [],
      "source": [
        "#Importamos librerías requeridas\n",
        "import pandas as pd\n",
        "import numpy as np\n",
        "import matplotlib.pyplot as plt\n",
        "import seaborn as sns"
      ]
    },
    {
      "cell_type": "code",
      "source": [
        "#Se muestra el DataFrame creado a partir del documento xlsx\n",
        "# SEGUNDA HOJA GASTOS (2021)\n",
        "g21 = pd.read_excel('Gastos y costos 20-23 (1).xlsx', sheet_name=\"2021\",skiprows=3)"
      ],
      "metadata": {
        "id": "NR-_a8IX7pgQ"
      },
      "execution_count": 5,
      "outputs": []
    },
    {
      "cell_type": "code",
      "source": [
        "#Verificamos información del DataFrame\n",
        "g21.info()"
      ],
      "metadata": {
        "colab": {
          "base_uri": "https://localhost:8080/"
        },
        "id": "wVG2G06i9Y49",
        "outputId": "60b22422-261e-49b2-f580-61a2422dba16"
      },
      "execution_count": 6,
      "outputs": [
        {
          "output_type": "stream",
          "name": "stdout",
          "text": [
            "<class 'pandas.core.frame.DataFrame'>\n",
            "RangeIndex: 3035 entries, 0 to 3034\n",
            "Data columns (total 18 columns):\n",
            " #   Column       Non-Null Count  Dtype         \n",
            "---  ------       --------------  -----         \n",
            " 0   FECHA        3035 non-null   datetime64[ns]\n",
            " 1   FOLIO        2888 non-null   object        \n",
            " 2   UUID         3035 non-null   object        \n",
            " 3   RFC          3035 non-null   object        \n",
            " 4   PROVEEDOR    3035 non-null   object        \n",
            " 5   TIPO GASTO   3035 non-null   object        \n",
            " 6   DESCRIPCION  3035 non-null   object        \n",
            " 7   MP           2381 non-null   object        \n",
            " 8   TC           3035 non-null   float64       \n",
            " 9   IMPORTE      3035 non-null   float64       \n",
            " 10  IVA          3035 non-null   float64       \n",
            " 11  RET ISR      3035 non-null   float64       \n",
            " 12  RET IVA      3035 non-null   float64       \n",
            " 13  TOTAL MX     3035 non-null   float64       \n",
            " 14  TOTAL SAT    3035 non-null   float64       \n",
            " 15  TIPO         3035 non-null   object        \n",
            " 16  STATUS       3035 non-null   object        \n",
            " 17  POLIZA       663 non-null    object        \n",
            "dtypes: datetime64[ns](1), float64(7), object(10)\n",
            "memory usage: 426.9+ KB\n"
          ]
        }
      ]
    },
    {
      "cell_type": "code",
      "source": [
        "g21.head()"
      ],
      "metadata": {
        "colab": {
          "base_uri": "https://localhost:8080/",
          "height": 582
        },
        "id": "Uent-kqs-nmr",
        "outputId": "1f7120f9-a32f-45b4-e6d9-15c1058fb3c0"
      },
      "execution_count": 7,
      "outputs": [
        {
          "output_type": "execute_result",
          "data": {
            "text/plain": [
              "       FECHA                   FOLIO                                  UUID  \\\n",
              "0 2021-01-01  0001010100750847116902  71B4C8B9-8DAA-47CC-AD47-9DD90AA5AF6B   \n",
              "1 2021-01-01  0001010100752163714102  B8AEDE83-CC76-404C-A611-6B5A87BA561F   \n",
              "2 2021-01-01                   19788  19B9B2C2-DF58-E24D-B43A-3FC4D5A929E7   \n",
              "3 2021-01-01                  211781  EAB26414-DD9A-4E8F-9F5C-05FE24D98E48   \n",
              "4 2021-01-01                  211782  C16F79B5-FB35-4BFC-AF84-708B24F500BB   \n",
              "\n",
              "            RFC                               PROVEEDOR  \\\n",
              "0  BNM840515VB1          BANCO NACIONAL DE MEXICO, S.A.   \n",
              "1  BNM840515VB1          BANCO NACIONAL DE MEXICO, S.A.   \n",
              "2  ESI9612311E7  ELECTRONICOS Y SIMILARES, S.A. DE C.V.   \n",
              "3  BLE1512082R9            BEPENSA LEASING S.A. DE C.V.   \n",
              "4  BLE1512082R9            BEPENSA LEASING S.A. DE C.V.   \n",
              "\n",
              "                 TIPO GASTO  \\\n",
              "0         COMISION BANCARIA   \n",
              "1         COMISION BANCARIA   \n",
              "2                   COMPRAS   \n",
              "3  ARRENDAMIENTO FINANCIERO   \n",
              "4  ARRENDAMIENTO FINANCIERO   \n",
              "\n",
              "                                         DESCRIPCION   MP   TC  IMPORTE  \\\n",
              "0                                   COMISION COBRADA  PUE  1.0   490.00   \n",
              "1                                   COMISION COBRADA  PUE  1.0   345.00   \n",
              "2                        MOTO E7 PLUS AZUL 64GB 4RAM  PUE  1.0  3447.41   \n",
              "3  AA RENTA EXIGIBLE CL0000006876 6/36 de 03/12/2...  PPD  1.0  5551.38   \n",
              "4  AA RENTA EXIGIBLE CL0000006877 6/36 de 03/12/2...  PPD  1.0  5551.98   \n",
              "\n",
              "      IVA  RET ISR  RET IVA  TOTAL MX  TOTAL SAT TIPO   STATUS POLIZA  \n",
              "0   78.40      0.0      0.0     568.4      568.4    I  Vigente      0  \n",
              "1   55.20      0.0      0.0     400.2      400.2    I  Vigente      0  \n",
              "2  551.59      0.0      0.0    3999.0     3999.0    I  Vigente      0  \n",
              "3  888.22      0.0      0.0    6439.6     6439.6    I  Vigente      0  \n",
              "4  888.32      0.0      0.0    6440.3     6440.3    I  Vigente      0  "
            ],
            "text/html": [
              "\n",
              "  <div id=\"df-b0a6ccb0-9436-4742-8960-6d6e58f3f74c\">\n",
              "    <div class=\"colab-df-container\">\n",
              "      <div>\n",
              "<style scoped>\n",
              "    .dataframe tbody tr th:only-of-type {\n",
              "        vertical-align: middle;\n",
              "    }\n",
              "\n",
              "    .dataframe tbody tr th {\n",
              "        vertical-align: top;\n",
              "    }\n",
              "\n",
              "    .dataframe thead th {\n",
              "        text-align: right;\n",
              "    }\n",
              "</style>\n",
              "<table border=\"1\" class=\"dataframe\">\n",
              "  <thead>\n",
              "    <tr style=\"text-align: right;\">\n",
              "      <th></th>\n",
              "      <th>FECHA</th>\n",
              "      <th>FOLIO</th>\n",
              "      <th>UUID</th>\n",
              "      <th>RFC</th>\n",
              "      <th>PROVEEDOR</th>\n",
              "      <th>TIPO GASTO</th>\n",
              "      <th>DESCRIPCION</th>\n",
              "      <th>MP</th>\n",
              "      <th>TC</th>\n",
              "      <th>IMPORTE</th>\n",
              "      <th>IVA</th>\n",
              "      <th>RET ISR</th>\n",
              "      <th>RET IVA</th>\n",
              "      <th>TOTAL MX</th>\n",
              "      <th>TOTAL SAT</th>\n",
              "      <th>TIPO</th>\n",
              "      <th>STATUS</th>\n",
              "      <th>POLIZA</th>\n",
              "    </tr>\n",
              "  </thead>\n",
              "  <tbody>\n",
              "    <tr>\n",
              "      <th>0</th>\n",
              "      <td>2021-01-01</td>\n",
              "      <td>0001010100750847116902</td>\n",
              "      <td>71B4C8B9-8DAA-47CC-AD47-9DD90AA5AF6B</td>\n",
              "      <td>BNM840515VB1</td>\n",
              "      <td>BANCO NACIONAL DE MEXICO, S.A.</td>\n",
              "      <td>COMISION BANCARIA</td>\n",
              "      <td>COMISION COBRADA</td>\n",
              "      <td>PUE</td>\n",
              "      <td>1.0</td>\n",
              "      <td>490.00</td>\n",
              "      <td>78.40</td>\n",
              "      <td>0.0</td>\n",
              "      <td>0.0</td>\n",
              "      <td>568.4</td>\n",
              "      <td>568.4</td>\n",
              "      <td>I</td>\n",
              "      <td>Vigente</td>\n",
              "      <td>0</td>\n",
              "    </tr>\n",
              "    <tr>\n",
              "      <th>1</th>\n",
              "      <td>2021-01-01</td>\n",
              "      <td>0001010100752163714102</td>\n",
              "      <td>B8AEDE83-CC76-404C-A611-6B5A87BA561F</td>\n",
              "      <td>BNM840515VB1</td>\n",
              "      <td>BANCO NACIONAL DE MEXICO, S.A.</td>\n",
              "      <td>COMISION BANCARIA</td>\n",
              "      <td>COMISION COBRADA</td>\n",
              "      <td>PUE</td>\n",
              "      <td>1.0</td>\n",
              "      <td>345.00</td>\n",
              "      <td>55.20</td>\n",
              "      <td>0.0</td>\n",
              "      <td>0.0</td>\n",
              "      <td>400.2</td>\n",
              "      <td>400.2</td>\n",
              "      <td>I</td>\n",
              "      <td>Vigente</td>\n",
              "      <td>0</td>\n",
              "    </tr>\n",
              "    <tr>\n",
              "      <th>2</th>\n",
              "      <td>2021-01-01</td>\n",
              "      <td>19788</td>\n",
              "      <td>19B9B2C2-DF58-E24D-B43A-3FC4D5A929E7</td>\n",
              "      <td>ESI9612311E7</td>\n",
              "      <td>ELECTRONICOS Y SIMILARES, S.A. DE C.V.</td>\n",
              "      <td>COMPRAS</td>\n",
              "      <td>MOTO E7 PLUS AZUL 64GB 4RAM</td>\n",
              "      <td>PUE</td>\n",
              "      <td>1.0</td>\n",
              "      <td>3447.41</td>\n",
              "      <td>551.59</td>\n",
              "      <td>0.0</td>\n",
              "      <td>0.0</td>\n",
              "      <td>3999.0</td>\n",
              "      <td>3999.0</td>\n",
              "      <td>I</td>\n",
              "      <td>Vigente</td>\n",
              "      <td>0</td>\n",
              "    </tr>\n",
              "    <tr>\n",
              "      <th>3</th>\n",
              "      <td>2021-01-01</td>\n",
              "      <td>211781</td>\n",
              "      <td>EAB26414-DD9A-4E8F-9F5C-05FE24D98E48</td>\n",
              "      <td>BLE1512082R9</td>\n",
              "      <td>BEPENSA LEASING S.A. DE C.V.</td>\n",
              "      <td>ARRENDAMIENTO FINANCIERO</td>\n",
              "      <td>AA RENTA EXIGIBLE CL0000006876 6/36 de 03/12/2...</td>\n",
              "      <td>PPD</td>\n",
              "      <td>1.0</td>\n",
              "      <td>5551.38</td>\n",
              "      <td>888.22</td>\n",
              "      <td>0.0</td>\n",
              "      <td>0.0</td>\n",
              "      <td>6439.6</td>\n",
              "      <td>6439.6</td>\n",
              "      <td>I</td>\n",
              "      <td>Vigente</td>\n",
              "      <td>0</td>\n",
              "    </tr>\n",
              "    <tr>\n",
              "      <th>4</th>\n",
              "      <td>2021-01-01</td>\n",
              "      <td>211782</td>\n",
              "      <td>C16F79B5-FB35-4BFC-AF84-708B24F500BB</td>\n",
              "      <td>BLE1512082R9</td>\n",
              "      <td>BEPENSA LEASING S.A. DE C.V.</td>\n",
              "      <td>ARRENDAMIENTO FINANCIERO</td>\n",
              "      <td>AA RENTA EXIGIBLE CL0000006877 6/36 de 03/12/2...</td>\n",
              "      <td>PPD</td>\n",
              "      <td>1.0</td>\n",
              "      <td>5551.98</td>\n",
              "      <td>888.32</td>\n",
              "      <td>0.0</td>\n",
              "      <td>0.0</td>\n",
              "      <td>6440.3</td>\n",
              "      <td>6440.3</td>\n",
              "      <td>I</td>\n",
              "      <td>Vigente</td>\n",
              "      <td>0</td>\n",
              "    </tr>\n",
              "  </tbody>\n",
              "</table>\n",
              "</div>\n",
              "      <button class=\"colab-df-convert\" onclick=\"convertToInteractive('df-b0a6ccb0-9436-4742-8960-6d6e58f3f74c')\"\n",
              "              title=\"Convert this dataframe to an interactive table.\"\n",
              "              style=\"display:none;\">\n",
              "        \n",
              "  <svg xmlns=\"http://www.w3.org/2000/svg\" height=\"24px\"viewBox=\"0 0 24 24\"\n",
              "       width=\"24px\">\n",
              "    <path d=\"M0 0h24v24H0V0z\" fill=\"none\"/>\n",
              "    <path d=\"M18.56 5.44l.94 2.06.94-2.06 2.06-.94-2.06-.94-.94-2.06-.94 2.06-2.06.94zm-11 1L8.5 8.5l.94-2.06 2.06-.94-2.06-.94L8.5 2.5l-.94 2.06-2.06.94zm10 10l.94 2.06.94-2.06 2.06-.94-2.06-.94-.94-2.06-.94 2.06-2.06.94z\"/><path d=\"M17.41 7.96l-1.37-1.37c-.4-.4-.92-.59-1.43-.59-.52 0-1.04.2-1.43.59L10.3 9.45l-7.72 7.72c-.78.78-.78 2.05 0 2.83L4 21.41c.39.39.9.59 1.41.59.51 0 1.02-.2 1.41-.59l7.78-7.78 2.81-2.81c.8-.78.8-2.07 0-2.86zM5.41 20L4 18.59l7.72-7.72 1.47 1.35L5.41 20z\"/>\n",
              "  </svg>\n",
              "      </button>\n",
              "      \n",
              "  <style>\n",
              "    .colab-df-container {\n",
              "      display:flex;\n",
              "      flex-wrap:wrap;\n",
              "      gap: 12px;\n",
              "    }\n",
              "\n",
              "    .colab-df-convert {\n",
              "      background-color: #E8F0FE;\n",
              "      border: none;\n",
              "      border-radius: 50%;\n",
              "      cursor: pointer;\n",
              "      display: none;\n",
              "      fill: #1967D2;\n",
              "      height: 32px;\n",
              "      padding: 0 0 0 0;\n",
              "      width: 32px;\n",
              "    }\n",
              "\n",
              "    .colab-df-convert:hover {\n",
              "      background-color: #E2EBFA;\n",
              "      box-shadow: 0px 1px 2px rgba(60, 64, 67, 0.3), 0px 1px 3px 1px rgba(60, 64, 67, 0.15);\n",
              "      fill: #174EA6;\n",
              "    }\n",
              "\n",
              "    [theme=dark] .colab-df-convert {\n",
              "      background-color: #3B4455;\n",
              "      fill: #D2E3FC;\n",
              "    }\n",
              "\n",
              "    [theme=dark] .colab-df-convert:hover {\n",
              "      background-color: #434B5C;\n",
              "      box-shadow: 0px 1px 3px 1px rgba(0, 0, 0, 0.15);\n",
              "      filter: drop-shadow(0px 1px 2px rgba(0, 0, 0, 0.3));\n",
              "      fill: #FFFFFF;\n",
              "    }\n",
              "  </style>\n",
              "\n",
              "      <script>\n",
              "        const buttonEl =\n",
              "          document.querySelector('#df-b0a6ccb0-9436-4742-8960-6d6e58f3f74c button.colab-df-convert');\n",
              "        buttonEl.style.display =\n",
              "          google.colab.kernel.accessAllowed ? 'block' : 'none';\n",
              "\n",
              "        async function convertToInteractive(key) {\n",
              "          const element = document.querySelector('#df-b0a6ccb0-9436-4742-8960-6d6e58f3f74c');\n",
              "          const dataTable =\n",
              "            await google.colab.kernel.invokeFunction('convertToInteractive',\n",
              "                                                     [key], {});\n",
              "          if (!dataTable) return;\n",
              "\n",
              "          const docLinkHtml = 'Like what you see? Visit the ' +\n",
              "            '<a target=\"_blank\" href=https://colab.research.google.com/notebooks/data_table.ipynb>data table notebook</a>'\n",
              "            + ' to learn more about interactive tables.';\n",
              "          element.innerHTML = '';\n",
              "          dataTable['output_type'] = 'display_data';\n",
              "          await google.colab.output.renderOutput(dataTable, element);\n",
              "          const docLink = document.createElement('div');\n",
              "          docLink.innerHTML = docLinkHtml;\n",
              "          element.appendChild(docLink);\n",
              "        }\n",
              "      </script>\n",
              "    </div>\n",
              "  </div>\n",
              "  "
            ]
          },
          "metadata": {},
          "execution_count": 7
        }
      ]
    },
    {
      "cell_type": "markdown",
      "source": [
        "##**VALORES NULOS**"
      ],
      "metadata": {
        "id": "E9Bl3Zr3-uUB"
      }
    },
    {
      "cell_type": "code",
      "source": [
        "#CORROBORAR LOS VALORES NULOS INICIALES\n",
        "valores_nulos=g21.isnull().sum()\n",
        "valores_nulos"
      ],
      "metadata": {
        "colab": {
          "base_uri": "https://localhost:8080/"
        },
        "id": "5jpQmSPz-ssY",
        "outputId": "1e3d6027-caa6-4d86-ea87-80a5726ef01d"
      },
      "execution_count": 8,
      "outputs": [
        {
          "output_type": "execute_result",
          "data": {
            "text/plain": [
              "FECHA             0\n",
              "FOLIO           147\n",
              "UUID              0\n",
              "RFC               0\n",
              "PROVEEDOR         0\n",
              "TIPO GASTO        0\n",
              "DESCRIPCION       0\n",
              "MP              654\n",
              "TC                0\n",
              "IMPORTE           0\n",
              "IVA               0\n",
              "RET ISR           0\n",
              "RET IVA           0\n",
              "TOTAL MX          0\n",
              "TOTAL SAT         0\n",
              "TIPO              0\n",
              "STATUS            0\n",
              "POLIZA         2372\n",
              "dtype: int64"
            ]
          },
          "metadata": {},
          "execution_count": 8
        }
      ]
    },
    {
      "cell_type": "code",
      "source": [
        "#Reemplazar los valores de folio por 0\n",
        "g21['FOLIO'] = g21['FOLIO'] .fillna(0)"
      ],
      "metadata": {
        "id": "UUY7NJPG_IY9"
      },
      "execution_count": 10,
      "outputs": []
    },
    {
      "cell_type": "code",
      "source": [
        "#CORROBORAR LOS VALORES NULOS\n",
        "valores_nulos=g21.isnull().sum()\n",
        "valores_nulos"
      ],
      "metadata": {
        "colab": {
          "base_uri": "https://localhost:8080/"
        },
        "id": "-Mq7WxvK_VuJ",
        "outputId": "6abebaac-d6d9-4ece-fc49-865d833af0e7"
      },
      "execution_count": 11,
      "outputs": [
        {
          "output_type": "execute_result",
          "data": {
            "text/plain": [
              "FECHA             0\n",
              "FOLIO             0\n",
              "UUID              0\n",
              "RFC               0\n",
              "PROVEEDOR         0\n",
              "TIPO GASTO        0\n",
              "DESCRIPCION       0\n",
              "MP              654\n",
              "TC                0\n",
              "IMPORTE           0\n",
              "IVA               0\n",
              "RET ISR           0\n",
              "RET IVA           0\n",
              "TOTAL MX          0\n",
              "TOTAL SAT         0\n",
              "TIPO              0\n",
              "STATUS            0\n",
              "POLIZA         2372\n",
              "dtype: int64"
            ]
          },
          "metadata": {},
          "execution_count": 11
        }
      ]
    },
    {
      "cell_type": "code",
      "source": [
        "#Reemplazar los valores de MP por \"--\"\n",
        "g21['MP'] = g21['MP'] .fillna('--')"
      ],
      "metadata": {
        "id": "mhA3-7za_oRx"
      },
      "execution_count": 12,
      "outputs": []
    },
    {
      "cell_type": "code",
      "source": [
        "#CORROBORAR LOS VALORES NULOS\n",
        "valores_nulos=g21.isnull().sum()\n",
        "valores_nulos"
      ],
      "metadata": {
        "colab": {
          "base_uri": "https://localhost:8080/"
        },
        "id": "6BcMK3AI_vck",
        "outputId": "7e6e4007-0984-45c0-9e81-3ac453d60100"
      },
      "execution_count": 13,
      "outputs": [
        {
          "output_type": "execute_result",
          "data": {
            "text/plain": [
              "FECHA             0\n",
              "FOLIO             0\n",
              "UUID              0\n",
              "RFC               0\n",
              "PROVEEDOR         0\n",
              "TIPO GASTO        0\n",
              "DESCRIPCION       0\n",
              "MP                0\n",
              "TC                0\n",
              "IMPORTE           0\n",
              "IVA               0\n",
              "RET ISR           0\n",
              "RET IVA           0\n",
              "TOTAL MX          0\n",
              "TOTAL SAT         0\n",
              "TIPO              0\n",
              "STATUS            0\n",
              "POLIZA         2372\n",
              "dtype: int64"
            ]
          },
          "metadata": {},
          "execution_count": 13
        }
      ]
    },
    {
      "cell_type": "code",
      "source": [
        "#Reemplazar los valores de FP por \"--\"\n",
        "g21['POLIZA'] = g21['POLIZA'] .fillna('--')"
      ],
      "metadata": {
        "id": "JwVKbhf7_zFa"
      },
      "execution_count": 14,
      "outputs": []
    },
    {
      "cell_type": "code",
      "source": [
        "#CORROBORAR LOS VALORES NULOS\n",
        "valores_nulos=g21.isnull().sum()\n",
        "valores_nulos"
      ],
      "metadata": {
        "colab": {
          "base_uri": "https://localhost:8080/"
        },
        "id": "x3O-SZTKAGpy",
        "outputId": "1786f030-4a23-4814-98fa-2d2d80532cfd"
      },
      "execution_count": 15,
      "outputs": [
        {
          "output_type": "execute_result",
          "data": {
            "text/plain": [
              "FECHA          0\n",
              "FOLIO          0\n",
              "UUID           0\n",
              "RFC            0\n",
              "PROVEEDOR      0\n",
              "TIPO GASTO     0\n",
              "DESCRIPCION    0\n",
              "MP             0\n",
              "TC             0\n",
              "IMPORTE        0\n",
              "IVA            0\n",
              "RET ISR        0\n",
              "RET IVA        0\n",
              "TOTAL MX       0\n",
              "TOTAL SAT      0\n",
              "TIPO           0\n",
              "STATUS         0\n",
              "POLIZA         0\n",
              "dtype: int64"
            ]
          },
          "metadata": {},
          "execution_count": 15
        }
      ]
    },
    {
      "cell_type": "code",
      "source": [
        "g21.to_csv(\"Gastos y costos 2021_sin_nulos.csv\")"
      ],
      "metadata": {
        "id": "qJd5Z0HlAKG5"
      },
      "execution_count": 16,
      "outputs": []
    },
    {
      "cell_type": "code",
      "source": [
        "from google.colab import files\n",
        "files.download(\"Gastos y costos 2021_sin_nulos.csv\")"
      ],
      "metadata": {
        "colab": {
          "base_uri": "https://localhost:8080/",
          "height": 17
        },
        "id": "k-_O-dciAR6m",
        "outputId": "8cee898d-c8cc-4b26-bb72-4a85ecc5b0e5"
      },
      "execution_count": 17,
      "outputs": [
        {
          "output_type": "display_data",
          "data": {
            "text/plain": [
              "<IPython.core.display.Javascript object>"
            ],
            "application/javascript": [
              "\n",
              "    async function download(id, filename, size) {\n",
              "      if (!google.colab.kernel.accessAllowed) {\n",
              "        return;\n",
              "      }\n",
              "      const div = document.createElement('div');\n",
              "      const label = document.createElement('label');\n",
              "      label.textContent = `Downloading \"${filename}\": `;\n",
              "      div.appendChild(label);\n",
              "      const progress = document.createElement('progress');\n",
              "      progress.max = size;\n",
              "      div.appendChild(progress);\n",
              "      document.body.appendChild(div);\n",
              "\n",
              "      const buffers = [];\n",
              "      let downloaded = 0;\n",
              "\n",
              "      const channel = await google.colab.kernel.comms.open(id);\n",
              "      // Send a message to notify the kernel that we're ready.\n",
              "      channel.send({})\n",
              "\n",
              "      for await (const message of channel.messages) {\n",
              "        // Send a message to notify the kernel that we're ready.\n",
              "        channel.send({})\n",
              "        if (message.buffers) {\n",
              "          for (const buffer of message.buffers) {\n",
              "            buffers.push(buffer);\n",
              "            downloaded += buffer.byteLength;\n",
              "            progress.value = downloaded;\n",
              "          }\n",
              "        }\n",
              "      }\n",
              "      const blob = new Blob(buffers, {type: 'application/binary'});\n",
              "      const a = document.createElement('a');\n",
              "      a.href = window.URL.createObjectURL(blob);\n",
              "      a.download = filename;\n",
              "      div.appendChild(a);\n",
              "      a.click();\n",
              "      div.remove();\n",
              "    }\n",
              "  "
            ]
          },
          "metadata": {}
        },
        {
          "output_type": "display_data",
          "data": {
            "text/plain": [
              "<IPython.core.display.Javascript object>"
            ],
            "application/javascript": [
              "download(\"download_cf28be1e-67ce-4ba2-9a1d-f3e6a4dabfef\", \"Gastos y costos 2021_sin_nulos.csv\", 638981)"
            ]
          },
          "metadata": {}
        }
      ]
    }
  ]
}