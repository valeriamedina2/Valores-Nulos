{
  "nbformat": 4,
  "nbformat_minor": 0,
  "metadata": {
    "colab": {
      "provenance": []
    },
    "kernelspec": {
      "name": "python3",
      "display_name": "Python 3"
    },
    "language_info": {
      "name": "python"
    }
  },
  "cells": [
    {
      "cell_type": "code",
      "execution_count": 40,
      "metadata": {
        "id": "ST3vq_C8Tt7-"
      },
      "outputs": [],
      "source": [
        "#Importamos librerías requeridas\n",
        "import pandas as pd\n",
        "import numpy as np\n",
        "import matplotlib.pyplot as plt\n",
        "import seaborn as sns"
      ]
    },
    {
      "cell_type": "code",
      "source": [
        "#Se muestra el DataFrame creado a partir del documento xlsx\n",
        "# CUARTA HOJA GASTOS (2023)\n",
        "g20 = pd.read_excel('Gastos y costos 20-23.xlsx', sheet_name=\"2020\",skiprows=5)"
      ],
      "metadata": {
        "id": "TONnx2crU4ac"
      },
      "execution_count": 41,
      "outputs": []
    },
    {
      "cell_type": "code",
      "source": [
        "#Verificamos información del DataFrame\n",
        "g20.info()"
      ],
      "metadata": {
        "colab": {
          "base_uri": "https://localhost:8080/"
        },
        "id": "sVDghgtbVJpT",
        "outputId": "c8d196e7-85d2-4e3c-9606-94b22396d30c"
      },
      "execution_count": 42,
      "outputs": [
        {
          "output_type": "stream",
          "name": "stdout",
          "text": [
            "<class 'pandas.core.frame.DataFrame'>\n",
            "RangeIndex: 3342 entries, 0 to 3341\n",
            "Data columns (total 19 columns):\n",
            " #   Column       Non-Null Count  Dtype         \n",
            "---  ------       --------------  -----         \n",
            " 0   FECHA        3342 non-null   datetime64[ns]\n",
            " 1   FOLIO        3153 non-null   object        \n",
            " 2   UUID         3342 non-null   object        \n",
            " 3   RFC          3342 non-null   object        \n",
            " 4   PROVEEDOR    3342 non-null   object        \n",
            " 5   TIPO GASTO   3342 non-null   object        \n",
            " 6   GASTO        840 non-null    object        \n",
            " 7   DESCRIPCION  3342 non-null   object        \n",
            " 8   TC           2951 non-null   float64       \n",
            " 9   IMPORTE      3308 non-null   float64       \n",
            " 10  IVA          3074 non-null   float64       \n",
            " 11  RET ISR      3342 non-null   float64       \n",
            " 12  RET IVA      3342 non-null   float64       \n",
            " 13  TOTAL MX     3342 non-null   float64       \n",
            " 14  TOTAL SAT    3342 non-null   float64       \n",
            " 15  TIPO         3341 non-null   object        \n",
            " 16  STATUS       3342 non-null   object        \n",
            " 17  POLIZA       21 non-null     object        \n",
            " 18  Columna1     3342 non-null   float64       \n",
            "dtypes: datetime64[ns](1), float64(8), object(10)\n",
            "memory usage: 496.2+ KB\n"
          ]
        }
      ]
    },
    {
      "cell_type": "code",
      "source": [
        "g20.head()"
      ],
      "metadata": {
        "colab": {
          "base_uri": "https://localhost:8080/",
          "height": 548
        },
        "id": "9r7kxhIMVb_h",
        "outputId": "2b433aee-5e2e-496c-8ddb-ad6d0f5b23f7"
      },
      "execution_count": 43,
      "outputs": [
        {
          "output_type": "execute_result",
          "data": {
            "text/plain": [
              "       FECHA                   FOLIO                                  UUID  \\\n",
              "0 2020-01-01                   39408  BD20F436-72CC-4BE2-AD37-5999D71AA391   \n",
              "1 2020-01-01  0001010100750847116902  85AEAC2E-6395-44A0-9CB9-754D06893375   \n",
              "2 2020-01-01  0001010100752163714102  BD0DFE85-D776-41CB-9C5C-4FA7923E687A   \n",
              "3 2020-01-01                    3663  EF4504D6-830D-415C-AF03-80CF54C5E28E   \n",
              "4 2020-01-01                    2849  EC2F4AA4-BA64-4E2E-A5B7-4EBBE042D6D3   \n",
              "\n",
              "            RFC                                          PROVEEDOR  \\\n",
              "0  ARE080115PBA                                ARSI RENTA SA DE CV   \n",
              "1  BNM840515VB1                     BANCO NACIONAL DE MEXICO, S.A.   \n",
              "2  BNM840515VB1                     BANCO NACIONAL DE MEXICO, S.A.   \n",
              "3  PSS120625C86  PROMOTORA DE SERVICIOS Y SOLUCIONES EMPRESARIA...   \n",
              "4  ENA7006081P0                   ELECTROTERMICA NACIONAL SA DE CV   \n",
              "\n",
              "             TIPO GASTO GASTO  \\\n",
              "0            MAQUINARIA   NaN   \n",
              "1     COMISION BANCARIA   NaN   \n",
              "2     COMISION BANCARIA   NaN   \n",
              "3  HONORARIOS CONTABLES   NaN   \n",
              "4               COMPRAS   NaN   \n",
              "\n",
              "                                         DESCRIPCION   TC   IMPORTE      IVA  \\\n",
              "0  Descripción: REVOLVEDORA, Modelo: ULTRAMP9A, M...  1.0      0.00  2248.28   \n",
              "1                                   COMISION COBRADA  1.0    490.00    78.40   \n",
              "2                                   COMISION COBRADA  1.0    195.00    31.20   \n",
              "3   HONORARIOS CONTABLES\\nDEL MES DE ENERO DEL 2020.  1.0  10694.25  1711.08   \n",
              "4                                               Pago  1.0      0.00      NaN   \n",
              "\n",
              "   RET ISR  RET IVA  TOTAL MX  TOTAL SAT TIPO   STATUS POLIZA  Columna1  \n",
              "0      0.0      0.0   2248.28   16300.00    I  Vigente    NaN  14051.72  \n",
              "1      0.0      0.0    568.40     568.40    I  Vigente    NaN      0.00  \n",
              "2      0.0      0.0    226.20     226.20    I  Vigente    NaN      0.00  \n",
              "3      0.0      0.0  12405.33   12405.33    I  Vigente    NaN      0.00  \n",
              "4      0.0      0.0      0.00       0.00    P  Vigente    NaN      0.00  "
            ],
            "text/html": [
              "\n",
              "  <div id=\"df-567ee551-cdbe-49a9-9636-5815b8ae92f3\">\n",
              "    <div class=\"colab-df-container\">\n",
              "      <div>\n",
              "<style scoped>\n",
              "    .dataframe tbody tr th:only-of-type {\n",
              "        vertical-align: middle;\n",
              "    }\n",
              "\n",
              "    .dataframe tbody tr th {\n",
              "        vertical-align: top;\n",
              "    }\n",
              "\n",
              "    .dataframe thead th {\n",
              "        text-align: right;\n",
              "    }\n",
              "</style>\n",
              "<table border=\"1\" class=\"dataframe\">\n",
              "  <thead>\n",
              "    <tr style=\"text-align: right;\">\n",
              "      <th></th>\n",
              "      <th>FECHA</th>\n",
              "      <th>FOLIO</th>\n",
              "      <th>UUID</th>\n",
              "      <th>RFC</th>\n",
              "      <th>PROVEEDOR</th>\n",
              "      <th>TIPO GASTO</th>\n",
              "      <th>GASTO</th>\n",
              "      <th>DESCRIPCION</th>\n",
              "      <th>TC</th>\n",
              "      <th>IMPORTE</th>\n",
              "      <th>IVA</th>\n",
              "      <th>RET ISR</th>\n",
              "      <th>RET IVA</th>\n",
              "      <th>TOTAL MX</th>\n",
              "      <th>TOTAL SAT</th>\n",
              "      <th>TIPO</th>\n",
              "      <th>STATUS</th>\n",
              "      <th>POLIZA</th>\n",
              "      <th>Columna1</th>\n",
              "    </tr>\n",
              "  </thead>\n",
              "  <tbody>\n",
              "    <tr>\n",
              "      <th>0</th>\n",
              "      <td>2020-01-01</td>\n",
              "      <td>39408</td>\n",
              "      <td>BD20F436-72CC-4BE2-AD37-5999D71AA391</td>\n",
              "      <td>ARE080115PBA</td>\n",
              "      <td>ARSI RENTA SA DE CV</td>\n",
              "      <td>MAQUINARIA</td>\n",
              "      <td>NaN</td>\n",
              "      <td>Descripción: REVOLVEDORA, Modelo: ULTRAMP9A, M...</td>\n",
              "      <td>1.0</td>\n",
              "      <td>0.00</td>\n",
              "      <td>2248.28</td>\n",
              "      <td>0.0</td>\n",
              "      <td>0.0</td>\n",
              "      <td>2248.28</td>\n",
              "      <td>16300.00</td>\n",
              "      <td>I</td>\n",
              "      <td>Vigente</td>\n",
              "      <td>NaN</td>\n",
              "      <td>14051.72</td>\n",
              "    </tr>\n",
              "    <tr>\n",
              "      <th>1</th>\n",
              "      <td>2020-01-01</td>\n",
              "      <td>0001010100750847116902</td>\n",
              "      <td>85AEAC2E-6395-44A0-9CB9-754D06893375</td>\n",
              "      <td>BNM840515VB1</td>\n",
              "      <td>BANCO NACIONAL DE MEXICO, S.A.</td>\n",
              "      <td>COMISION BANCARIA</td>\n",
              "      <td>NaN</td>\n",
              "      <td>COMISION COBRADA</td>\n",
              "      <td>1.0</td>\n",
              "      <td>490.00</td>\n",
              "      <td>78.40</td>\n",
              "      <td>0.0</td>\n",
              "      <td>0.0</td>\n",
              "      <td>568.40</td>\n",
              "      <td>568.40</td>\n",
              "      <td>I</td>\n",
              "      <td>Vigente</td>\n",
              "      <td>NaN</td>\n",
              "      <td>0.00</td>\n",
              "    </tr>\n",
              "    <tr>\n",
              "      <th>2</th>\n",
              "      <td>2020-01-01</td>\n",
              "      <td>0001010100752163714102</td>\n",
              "      <td>BD0DFE85-D776-41CB-9C5C-4FA7923E687A</td>\n",
              "      <td>BNM840515VB1</td>\n",
              "      <td>BANCO NACIONAL DE MEXICO, S.A.</td>\n",
              "      <td>COMISION BANCARIA</td>\n",
              "      <td>NaN</td>\n",
              "      <td>COMISION COBRADA</td>\n",
              "      <td>1.0</td>\n",
              "      <td>195.00</td>\n",
              "      <td>31.20</td>\n",
              "      <td>0.0</td>\n",
              "      <td>0.0</td>\n",
              "      <td>226.20</td>\n",
              "      <td>226.20</td>\n",
              "      <td>I</td>\n",
              "      <td>Vigente</td>\n",
              "      <td>NaN</td>\n",
              "      <td>0.00</td>\n",
              "    </tr>\n",
              "    <tr>\n",
              "      <th>3</th>\n",
              "      <td>2020-01-01</td>\n",
              "      <td>3663</td>\n",
              "      <td>EF4504D6-830D-415C-AF03-80CF54C5E28E</td>\n",
              "      <td>PSS120625C86</td>\n",
              "      <td>PROMOTORA DE SERVICIOS Y SOLUCIONES EMPRESARIA...</td>\n",
              "      <td>HONORARIOS CONTABLES</td>\n",
              "      <td>NaN</td>\n",
              "      <td>HONORARIOS CONTABLES\\nDEL MES DE ENERO DEL 2020.</td>\n",
              "      <td>1.0</td>\n",
              "      <td>10694.25</td>\n",
              "      <td>1711.08</td>\n",
              "      <td>0.0</td>\n",
              "      <td>0.0</td>\n",
              "      <td>12405.33</td>\n",
              "      <td>12405.33</td>\n",
              "      <td>I</td>\n",
              "      <td>Vigente</td>\n",
              "      <td>NaN</td>\n",
              "      <td>0.00</td>\n",
              "    </tr>\n",
              "    <tr>\n",
              "      <th>4</th>\n",
              "      <td>2020-01-01</td>\n",
              "      <td>2849</td>\n",
              "      <td>EC2F4AA4-BA64-4E2E-A5B7-4EBBE042D6D3</td>\n",
              "      <td>ENA7006081P0</td>\n",
              "      <td>ELECTROTERMICA NACIONAL SA DE CV</td>\n",
              "      <td>COMPRAS</td>\n",
              "      <td>NaN</td>\n",
              "      <td>Pago</td>\n",
              "      <td>1.0</td>\n",
              "      <td>0.00</td>\n",
              "      <td>NaN</td>\n",
              "      <td>0.0</td>\n",
              "      <td>0.0</td>\n",
              "      <td>0.00</td>\n",
              "      <td>0.00</td>\n",
              "      <td>P</td>\n",
              "      <td>Vigente</td>\n",
              "      <td>NaN</td>\n",
              "      <td>0.00</td>\n",
              "    </tr>\n",
              "  </tbody>\n",
              "</table>\n",
              "</div>\n",
              "      <button class=\"colab-df-convert\" onclick=\"convertToInteractive('df-567ee551-cdbe-49a9-9636-5815b8ae92f3')\"\n",
              "              title=\"Convert this dataframe to an interactive table.\"\n",
              "              style=\"display:none;\">\n",
              "        \n",
              "  <svg xmlns=\"http://www.w3.org/2000/svg\" height=\"24px\"viewBox=\"0 0 24 24\"\n",
              "       width=\"24px\">\n",
              "    <path d=\"M0 0h24v24H0V0z\" fill=\"none\"/>\n",
              "    <path d=\"M18.56 5.44l.94 2.06.94-2.06 2.06-.94-2.06-.94-.94-2.06-.94 2.06-2.06.94zm-11 1L8.5 8.5l.94-2.06 2.06-.94-2.06-.94L8.5 2.5l-.94 2.06-2.06.94zm10 10l.94 2.06.94-2.06 2.06-.94-2.06-.94-.94-2.06-.94 2.06-2.06.94z\"/><path d=\"M17.41 7.96l-1.37-1.37c-.4-.4-.92-.59-1.43-.59-.52 0-1.04.2-1.43.59L10.3 9.45l-7.72 7.72c-.78.78-.78 2.05 0 2.83L4 21.41c.39.39.9.59 1.41.59.51 0 1.02-.2 1.41-.59l7.78-7.78 2.81-2.81c.8-.78.8-2.07 0-2.86zM5.41 20L4 18.59l7.72-7.72 1.47 1.35L5.41 20z\"/>\n",
              "  </svg>\n",
              "      </button>\n",
              "      \n",
              "  <style>\n",
              "    .colab-df-container {\n",
              "      display:flex;\n",
              "      flex-wrap:wrap;\n",
              "      gap: 12px;\n",
              "    }\n",
              "\n",
              "    .colab-df-convert {\n",
              "      background-color: #E8F0FE;\n",
              "      border: none;\n",
              "      border-radius: 50%;\n",
              "      cursor: pointer;\n",
              "      display: none;\n",
              "      fill: #1967D2;\n",
              "      height: 32px;\n",
              "      padding: 0 0 0 0;\n",
              "      width: 32px;\n",
              "    }\n",
              "\n",
              "    .colab-df-convert:hover {\n",
              "      background-color: #E2EBFA;\n",
              "      box-shadow: 0px 1px 2px rgba(60, 64, 67, 0.3), 0px 1px 3px 1px rgba(60, 64, 67, 0.15);\n",
              "      fill: #174EA6;\n",
              "    }\n",
              "\n",
              "    [theme=dark] .colab-df-convert {\n",
              "      background-color: #3B4455;\n",
              "      fill: #D2E3FC;\n",
              "    }\n",
              "\n",
              "    [theme=dark] .colab-df-convert:hover {\n",
              "      background-color: #434B5C;\n",
              "      box-shadow: 0px 1px 3px 1px rgba(0, 0, 0, 0.15);\n",
              "      filter: drop-shadow(0px 1px 2px rgba(0, 0, 0, 0.3));\n",
              "      fill: #FFFFFF;\n",
              "    }\n",
              "  </style>\n",
              "\n",
              "      <script>\n",
              "        const buttonEl =\n",
              "          document.querySelector('#df-567ee551-cdbe-49a9-9636-5815b8ae92f3 button.colab-df-convert');\n",
              "        buttonEl.style.display =\n",
              "          google.colab.kernel.accessAllowed ? 'block' : 'none';\n",
              "\n",
              "        async function convertToInteractive(key) {\n",
              "          const element = document.querySelector('#df-567ee551-cdbe-49a9-9636-5815b8ae92f3');\n",
              "          const dataTable =\n",
              "            await google.colab.kernel.invokeFunction('convertToInteractive',\n",
              "                                                     [key], {});\n",
              "          if (!dataTable) return;\n",
              "\n",
              "          const docLinkHtml = 'Like what you see? Visit the ' +\n",
              "            '<a target=\"_blank\" href=https://colab.research.google.com/notebooks/data_table.ipynb>data table notebook</a>'\n",
              "            + ' to learn more about interactive tables.';\n",
              "          element.innerHTML = '';\n",
              "          dataTable['output_type'] = 'display_data';\n",
              "          await google.colab.output.renderOutput(dataTable, element);\n",
              "          const docLink = document.createElement('div');\n",
              "          docLink.innerHTML = docLinkHtml;\n",
              "          element.appendChild(docLink);\n",
              "        }\n",
              "      </script>\n",
              "    </div>\n",
              "  </div>\n",
              "  "
            ]
          },
          "metadata": {},
          "execution_count": 43
        }
      ]
    },
    {
      "cell_type": "markdown",
      "source": [
        "## **VALORES NULOS**"
      ],
      "metadata": {
        "id": "SpgGZlPWVijR"
      }
    },
    {
      "cell_type": "code",
      "source": [
        "#CORROBORAR LOS VALORES NULOS INICIALES\n",
        "valores_nulos=g20.isnull().sum()\n",
        "valores_nulos"
      ],
      "metadata": {
        "id": "mNlTSezxVlHo",
        "colab": {
          "base_uri": "https://localhost:8080/"
        },
        "outputId": "534cf806-e1b6-4881-afd9-1902c0ac0bd1"
      },
      "execution_count": 44,
      "outputs": [
        {
          "output_type": "execute_result",
          "data": {
            "text/plain": [
              "FECHA             0\n",
              "FOLIO           189\n",
              "UUID              0\n",
              "RFC               0\n",
              "PROVEEDOR         0\n",
              "TIPO GASTO        0\n",
              "GASTO          2502\n",
              "DESCRIPCION       0\n",
              "TC              391\n",
              "IMPORTE          34\n",
              "IVA             268\n",
              "RET ISR           0\n",
              "RET IVA           0\n",
              "TOTAL MX          0\n",
              "TOTAL SAT         0\n",
              "TIPO              1\n",
              "STATUS            0\n",
              "POLIZA         3321\n",
              "Columna1          0\n",
              "dtype: int64"
            ]
          },
          "metadata": {},
          "execution_count": 44
        }
      ]
    },
    {
      "cell_type": "code",
      "source": [
        "#Reemplazar los valores de folio por 0\n",
        "g20['FOLIO'] = g20['FOLIO'] .fillna(0)"
      ],
      "metadata": {
        "id": "odVxOhLqXOdq"
      },
      "execution_count": 45,
      "outputs": []
    },
    {
      "cell_type": "code",
      "source": [
        "#CORROBORAR LOS VALORES NULOS\n",
        "valores_nulos=g20.isnull().sum()\n",
        "valores_nulos"
      ],
      "metadata": {
        "id": "QNIBv9P6X35O",
        "colab": {
          "base_uri": "https://localhost:8080/"
        },
        "outputId": "fdb02a7b-ea17-40ec-fb66-a560edf5a3d8"
      },
      "execution_count": 46,
      "outputs": [
        {
          "output_type": "execute_result",
          "data": {
            "text/plain": [
              "FECHA             0\n",
              "FOLIO             0\n",
              "UUID              0\n",
              "RFC               0\n",
              "PROVEEDOR         0\n",
              "TIPO GASTO        0\n",
              "GASTO          2502\n",
              "DESCRIPCION       0\n",
              "TC              391\n",
              "IMPORTE          34\n",
              "IVA             268\n",
              "RET ISR           0\n",
              "RET IVA           0\n",
              "TOTAL MX          0\n",
              "TOTAL SAT         0\n",
              "TIPO              1\n",
              "STATUS            0\n",
              "POLIZA         3321\n",
              "Columna1          0\n",
              "dtype: int64"
            ]
          },
          "metadata": {},
          "execution_count": 46
        }
      ]
    },
    {
      "cell_type": "code",
      "source": [
        "#Reemplazar los valores de Gasto por \"--\"\n",
        "g20['GASTO'] = g20['GASTO'] .fillna('--')"
      ],
      "metadata": {
        "id": "zx4NloRKYMyd"
      },
      "execution_count": 47,
      "outputs": []
    },
    {
      "cell_type": "code",
      "source": [
        "#CORROBORAR LOS VALORES NULOS\n",
        "valores_nulos=g20.isnull().sum()\n",
        "valores_nulos"
      ],
      "metadata": {
        "id": "zHSY0k78YS-v",
        "colab": {
          "base_uri": "https://localhost:8080/"
        },
        "outputId": "74e55c2c-4a0e-4356-c348-223427d37b1f"
      },
      "execution_count": 48,
      "outputs": [
        {
          "output_type": "execute_result",
          "data": {
            "text/plain": [
              "FECHA             0\n",
              "FOLIO             0\n",
              "UUID              0\n",
              "RFC               0\n",
              "PROVEEDOR         0\n",
              "TIPO GASTO        0\n",
              "GASTO             0\n",
              "DESCRIPCION       0\n",
              "TC              391\n",
              "IMPORTE          34\n",
              "IVA             268\n",
              "RET ISR           0\n",
              "RET IVA           0\n",
              "TOTAL MX          0\n",
              "TOTAL SAT         0\n",
              "TIPO              1\n",
              "STATUS            0\n",
              "POLIZA         3321\n",
              "Columna1          0\n",
              "dtype: int64"
            ]
          },
          "metadata": {},
          "execution_count": 48
        }
      ]
    },
    {
      "cell_type": "code",
      "source": [
        "#Reemplazar los valores de TC por \"--\"\n",
        "g20['TC'] = g20['TC'] .fillna('--')"
      ],
      "metadata": {
        "id": "GGl2pgXlYZ65"
      },
      "execution_count": 49,
      "outputs": []
    },
    {
      "cell_type": "code",
      "source": [
        "#CORROBORAR LOS VALORES NULOS\n",
        "valores_nulos=g20.isnull().sum()\n",
        "valores_nulos"
      ],
      "metadata": {
        "id": "n88jJsh-YZ-D",
        "colab": {
          "base_uri": "https://localhost:8080/"
        },
        "outputId": "d445b9bb-26be-4c3b-9ba3-626c60351e2e"
      },
      "execution_count": 50,
      "outputs": [
        {
          "output_type": "execute_result",
          "data": {
            "text/plain": [
              "FECHA             0\n",
              "FOLIO             0\n",
              "UUID              0\n",
              "RFC               0\n",
              "PROVEEDOR         0\n",
              "TIPO GASTO        0\n",
              "GASTO             0\n",
              "DESCRIPCION       0\n",
              "TC                0\n",
              "IMPORTE          34\n",
              "IVA             268\n",
              "RET ISR           0\n",
              "RET IVA           0\n",
              "TOTAL MX          0\n",
              "TOTAL SAT         0\n",
              "TIPO              1\n",
              "STATUS            0\n",
              "POLIZA         3321\n",
              "Columna1          0\n",
              "dtype: int64"
            ]
          },
          "metadata": {},
          "execution_count": 50
        }
      ]
    },
    {
      "cell_type": "code",
      "source": [
        "#Reemplazar los valores de importe por \"--\"\n",
        "g20['IMPORTE'] = g20['IMPORTE'] .fillna(0)"
      ],
      "metadata": {
        "id": "7nopIHSeYaBU"
      },
      "execution_count": 51,
      "outputs": []
    },
    {
      "cell_type": "code",
      "source": [
        "#CORROBORAR LOS VALORES NULOS\n",
        "valores_nulos=g20.isnull().sum()\n",
        "valores_nulos"
      ],
      "metadata": {
        "id": "wl4BOW6DYaEV",
        "colab": {
          "base_uri": "https://localhost:8080/"
        },
        "outputId": "9d50c117-e889-4556-a95e-120029d25a4a"
      },
      "execution_count": 52,
      "outputs": [
        {
          "output_type": "execute_result",
          "data": {
            "text/plain": [
              "FECHA             0\n",
              "FOLIO             0\n",
              "UUID              0\n",
              "RFC               0\n",
              "PROVEEDOR         0\n",
              "TIPO GASTO        0\n",
              "GASTO             0\n",
              "DESCRIPCION       0\n",
              "TC                0\n",
              "IMPORTE           0\n",
              "IVA             268\n",
              "RET ISR           0\n",
              "RET IVA           0\n",
              "TOTAL MX          0\n",
              "TOTAL SAT         0\n",
              "TIPO              1\n",
              "STATUS            0\n",
              "POLIZA         3321\n",
              "Columna1          0\n",
              "dtype: int64"
            ]
          },
          "metadata": {},
          "execution_count": 52
        }
      ]
    },
    {
      "cell_type": "code",
      "source": [
        "#Reemplazar los valores de iva por 0\n",
        "g20['IVA'] = g20['IVA'] .fillna(0)"
      ],
      "metadata": {
        "id": "_TWTHaOKYaHr"
      },
      "execution_count": 53,
      "outputs": []
    },
    {
      "cell_type": "code",
      "source": [
        "#CORROBORAR LOS VALORES NULOS\n",
        "valores_nulos=g20.isnull().sum()\n",
        "valores_nulos"
      ],
      "metadata": {
        "id": "PA1X2TaDYaKd",
        "colab": {
          "base_uri": "https://localhost:8080/"
        },
        "outputId": "cca0ce3a-b875-48a0-c393-ab089311154a"
      },
      "execution_count": 54,
      "outputs": [
        {
          "output_type": "execute_result",
          "data": {
            "text/plain": [
              "FECHA             0\n",
              "FOLIO             0\n",
              "UUID              0\n",
              "RFC               0\n",
              "PROVEEDOR         0\n",
              "TIPO GASTO        0\n",
              "GASTO             0\n",
              "DESCRIPCION       0\n",
              "TC                0\n",
              "IMPORTE           0\n",
              "IVA               0\n",
              "RET ISR           0\n",
              "RET IVA           0\n",
              "TOTAL MX          0\n",
              "TOTAL SAT         0\n",
              "TIPO              1\n",
              "STATUS            0\n",
              "POLIZA         3321\n",
              "Columna1          0\n",
              "dtype: int64"
            ]
          },
          "metadata": {},
          "execution_count": 54
        }
      ]
    },
    {
      "cell_type": "code",
      "source": [
        "#Reemplazar los valores de Tipo por \"--\"\n",
        "g20['TIPO'] = g20['TIPO'] .fillna('--')"
      ],
      "metadata": {
        "id": "ro0UIQprYaN6"
      },
      "execution_count": 55,
      "outputs": []
    },
    {
      "cell_type": "code",
      "source": [
        "#CORROBORAR LOS VALORES NULOS\n",
        "valores_nulos=g20.isnull().sum()\n",
        "valores_nulos"
      ],
      "metadata": {
        "id": "_8AlUU9gZo7D",
        "colab": {
          "base_uri": "https://localhost:8080/"
        },
        "outputId": "6a540bbc-2a64-4ed8-b621-b326b93ed854"
      },
      "execution_count": 56,
      "outputs": [
        {
          "output_type": "execute_result",
          "data": {
            "text/plain": [
              "FECHA             0\n",
              "FOLIO             0\n",
              "UUID              0\n",
              "RFC               0\n",
              "PROVEEDOR         0\n",
              "TIPO GASTO        0\n",
              "GASTO             0\n",
              "DESCRIPCION       0\n",
              "TC                0\n",
              "IMPORTE           0\n",
              "IVA               0\n",
              "RET ISR           0\n",
              "RET IVA           0\n",
              "TOTAL MX          0\n",
              "TOTAL SAT         0\n",
              "TIPO              0\n",
              "STATUS            0\n",
              "POLIZA         3321\n",
              "Columna1          0\n",
              "dtype: int64"
            ]
          },
          "metadata": {},
          "execution_count": 56
        }
      ]
    },
    {
      "cell_type": "code",
      "source": [
        "#Reemplazar los valores de Poliza por \"--\"\n",
        "g20['POLIZA'] = g20['POLIZA'] .fillna('--')"
      ],
      "metadata": {
        "id": "QTBDcdOUESOF"
      },
      "execution_count": 57,
      "outputs": []
    },
    {
      "cell_type": "code",
      "source": [
        "#NO SE ENCUENTRAN VALORES NULOS\n",
        "#CORROBORAR LOS VALORES NULOS\n",
        "valores_nulos=g20.isnull().sum()\n",
        "valores_nulos"
      ],
      "metadata": {
        "colab": {
          "base_uri": "https://localhost:8080/"
        },
        "id": "Boqx04vcESOG",
        "outputId": "1725cfbb-0a22-4cc0-d235-0f8a466953c4"
      },
      "execution_count": 58,
      "outputs": [
        {
          "output_type": "execute_result",
          "data": {
            "text/plain": [
              "FECHA          0\n",
              "FOLIO          0\n",
              "UUID           0\n",
              "RFC            0\n",
              "PROVEEDOR      0\n",
              "TIPO GASTO     0\n",
              "GASTO          0\n",
              "DESCRIPCION    0\n",
              "TC             0\n",
              "IMPORTE        0\n",
              "IVA            0\n",
              "RET ISR        0\n",
              "RET IVA        0\n",
              "TOTAL MX       0\n",
              "TOTAL SAT      0\n",
              "TIPO           0\n",
              "STATUS         0\n",
              "POLIZA         0\n",
              "Columna1       0\n",
              "dtype: int64"
            ]
          },
          "metadata": {},
          "execution_count": 58
        }
      ]
    },
    {
      "cell_type": "code",
      "source": [
        "g20.to_csv(\"Gastos y costos 20-23_2020_sin_nulos.csv\")"
      ],
      "metadata": {
        "id": "vhnIDx6RaIQz"
      },
      "execution_count": 59,
      "outputs": []
    },
    {
      "cell_type": "code",
      "source": [
        "from google.colab import files\n",
        "files.download(\"Gastos y costos 20-23_2020_sin_nulos.csv\")"
      ],
      "metadata": {
        "colab": {
          "base_uri": "https://localhost:8080/",
          "height": 17
        },
        "id": "FBb4kOgLaaQ8",
        "outputId": "13998171-30a7-491f-a28b-e71284155b40"
      },
      "execution_count": 60,
      "outputs": [
        {
          "output_type": "display_data",
          "data": {
            "text/plain": [
              "<IPython.core.display.Javascript object>"
            ],
            "application/javascript": [
              "\n",
              "    async function download(id, filename, size) {\n",
              "      if (!google.colab.kernel.accessAllowed) {\n",
              "        return;\n",
              "      }\n",
              "      const div = document.createElement('div');\n",
              "      const label = document.createElement('label');\n",
              "      label.textContent = `Downloading \"${filename}\": `;\n",
              "      div.appendChild(label);\n",
              "      const progress = document.createElement('progress');\n",
              "      progress.max = size;\n",
              "      div.appendChild(progress);\n",
              "      document.body.appendChild(div);\n",
              "\n",
              "      const buffers = [];\n",
              "      let downloaded = 0;\n",
              "\n",
              "      const channel = await google.colab.kernel.comms.open(id);\n",
              "      // Send a message to notify the kernel that we're ready.\n",
              "      channel.send({})\n",
              "\n",
              "      for await (const message of channel.messages) {\n",
              "        // Send a message to notify the kernel that we're ready.\n",
              "        channel.send({})\n",
              "        if (message.buffers) {\n",
              "          for (const buffer of message.buffers) {\n",
              "            buffers.push(buffer);\n",
              "            downloaded += buffer.byteLength;\n",
              "            progress.value = downloaded;\n",
              "          }\n",
              "        }\n",
              "      }\n",
              "      const blob = new Blob(buffers, {type: 'application/binary'});\n",
              "      const a = document.createElement('a');\n",
              "      a.href = window.URL.createObjectURL(blob);\n",
              "      a.download = filename;\n",
              "      div.appendChild(a);\n",
              "      a.click();\n",
              "      div.remove();\n",
              "    }\n",
              "  "
            ]
          },
          "metadata": {}
        },
        {
          "output_type": "display_data",
          "data": {
            "text/plain": [
              "<IPython.core.display.Javascript object>"
            ],
            "application/javascript": [
              "download(\"download_4de5e9dd-2b02-4d31-829a-eb033039ac8a\", \"Gastos y costos 20-23_2020_sin_nulos.csv\", 707995)"
            ]
          },
          "metadata": {}
        }
      ]
    }
  ]
}