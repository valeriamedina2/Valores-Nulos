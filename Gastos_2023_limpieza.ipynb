{
  "nbformat": 4,
  "nbformat_minor": 0,
  "metadata": {
    "colab": {
      "provenance": []
    },
    "kernelspec": {
      "name": "python3",
      "display_name": "Python 3"
    },
    "language_info": {
      "name": "python"
    }
  },
  "cells": [
    {
      "cell_type": "code",
      "execution_count": 84,
      "metadata": {
        "id": "ST3vq_C8Tt7-"
      },
      "outputs": [],
      "source": [
        "#Importamos librerías requeridas\n",
        "import pandas as pd\n",
        "import numpy as np\n",
        "import matplotlib.pyplot as plt\n",
        "import seaborn as sns"
      ]
    },
    {
      "cell_type": "code",
      "source": [
        "#Se muestra el DataFrame creado a partir del documento xlsx\n",
        "# CUARTA HOJA GASTOS (2023)\n",
        "g23 = pd.read_excel('Gastos y costos 20-23.xlsx', sheet_name=\"2023\",skiprows=3)"
      ],
      "metadata": {
        "id": "TONnx2crU4ac"
      },
      "execution_count": 85,
      "outputs": []
    },
    {
      "cell_type": "code",
      "source": [
        "#Verificamos información del DataFrame\n",
        "g23.info()"
      ],
      "metadata": {
        "colab": {
          "base_uri": "https://localhost:8080/"
        },
        "id": "sVDghgtbVJpT",
        "outputId": "f2a23c7d-dde2-4537-8313-1ffdd983276e"
      },
      "execution_count": 86,
      "outputs": [
        {
          "output_type": "stream",
          "name": "stdout",
          "text": [
            "<class 'pandas.core.frame.DataFrame'>\n",
            "RangeIndex: 397 entries, 0 to 396\n",
            "Data columns (total 20 columns):\n",
            " #   Column       Non-Null Count  Dtype         \n",
            "---  ------       --------------  -----         \n",
            " 0   Fecha        397 non-null    datetime64[ns]\n",
            " 1   Folio        384 non-null    object        \n",
            " 2   UUID         397 non-null    object        \n",
            " 3   RFC          397 non-null    object        \n",
            " 4   Proveedor    397 non-null    object        \n",
            " 5   TIPO GASTO   389 non-null    object        \n",
            " 6   Descripción  397 non-null    object        \n",
            " 7   MP           326 non-null    object        \n",
            " 8   FP           326 non-null    float64       \n",
            " 9   TC           397 non-null    float64       \n",
            " 10  Importe      397 non-null    float64       \n",
            " 11  IVA          397 non-null    float64       \n",
            " 12  RET ISR      397 non-null    float64       \n",
            " 13  RET IVA      397 non-null    float64       \n",
            " 14  Otros        0 non-null      float64       \n",
            " 15  TOTAL MX     397 non-null    float64       \n",
            " 16  TOTAL SAT    397 non-null    float64       \n",
            " 17  Tipo         397 non-null    object        \n",
            " 18  Status       397 non-null    object        \n",
            " 19  Poliza       282 non-null    object        \n",
            "dtypes: datetime64[ns](1), float64(9), object(10)\n",
            "memory usage: 62.2+ KB\n"
          ]
        }
      ]
    },
    {
      "cell_type": "code",
      "source": [
        "g23.head()"
      ],
      "metadata": {
        "colab": {
          "base_uri": "https://localhost:8080/",
          "height": 583
        },
        "id": "9r7kxhIMVb_h",
        "outputId": "2b127b14-c9e0-4701-c285-3cc327487404"
      },
      "execution_count": 87,
      "outputs": [
        {
          "output_type": "execute_result",
          "data": {
            "text/plain": [
              "       Fecha   Folio                                  UUID           RFC  \\\n",
              "0 2023-01-01      31  49536321-60A4-523E-A32F-E8BDF5C2276E  AAE6411055P8   \n",
              "1 2023-01-01      38  20FBB63B-D550-512F-9668-EEC6F983CEB7  AAE6411055P8   \n",
              "2 2023-01-01  341932  DB8C4388-D4E0-4F0C-A09C-77C773257F44  BLE1512082R9   \n",
              "3 2023-01-01  341933  A81A63F5-D5EC-4601-803E-375AF9CC5021  BLE1512082R9   \n",
              "4 2023-01-01  342205  DCC10492-DE51-4C87-8430-5676FBF81931  BLE1512082R9   \n",
              "\n",
              "                      Proveedor                TIPO GASTO  \\\n",
              "0     AESA ARTICULOS ELECTRICOS                   COMPRAS   \n",
              "1     AESA ARTICULOS ELECTRICOS                   COMPRAS   \n",
              "2  BEPENSA LEASING S.A. DE C.V.  ARRENDAMIENTO FINANCIERO   \n",
              "3  BEPENSA LEASING S.A. DE C.V.  ARRENDAMIENTO FINANCIERO   \n",
              "4  BEPENSA LEASING S.A. DE C.V.  ARRENDAMIENTO FINANCIERO   \n",
              "\n",
              "                                         Descripción   MP    FP   TC  Importe  \\\n",
              "0                                               Pago  NaN   NaN  1.0     0.00   \n",
              "1                                               Pago  NaN   NaN  1.0     0.00   \n",
              "2  AA RENTA EXIGIBLE CL0000006876 30/36 de 03/12/...  PPD  99.0  1.0  5551.38   \n",
              "3  AA RENTA EXIGIBLE CL0000006877 30/36 de 03/12/...  PPD  99.0  1.0  5551.98   \n",
              "4  AA RENTA EXIGIBLE CL0000009486 5/48 de 03/12/2...  PPD  99.0  1.0  8454.37   \n",
              "\n",
              "       IVA  RET ISR  RET IVA  Otros  TOTAL MX  TOTAL SAT Tipo   Status  \\\n",
              "0     0.00      0.0      0.0    NaN      0.00       0.00    P  Vigente   \n",
              "1     0.00      0.0      0.0    NaN      0.00       0.00    P  Vigente   \n",
              "2   888.22      0.0      0.0    NaN   6439.60    6439.60    I  Vigente   \n",
              "3   888.32      0.0      0.0    NaN   6440.30    6440.30    I  Vigente   \n",
              "4  1352.70      0.0      0.0    NaN   9807.07    9807.07    I  Vigente   \n",
              "\n",
              "       Poliza  \n",
              "0         NaN  \n",
              "1         NaN  \n",
              "2  PE01-ENE23  \n",
              "3  PE02-ENE23  \n",
              "4  PE03-ENE23  "
            ],
            "text/html": [
              "\n",
              "  <div id=\"df-76a61b8c-0b95-46ed-beac-c46ef258a890\">\n",
              "    <div class=\"colab-df-container\">\n",
              "      <div>\n",
              "<style scoped>\n",
              "    .dataframe tbody tr th:only-of-type {\n",
              "        vertical-align: middle;\n",
              "    }\n",
              "\n",
              "    .dataframe tbody tr th {\n",
              "        vertical-align: top;\n",
              "    }\n",
              "\n",
              "    .dataframe thead th {\n",
              "        text-align: right;\n",
              "    }\n",
              "</style>\n",
              "<table border=\"1\" class=\"dataframe\">\n",
              "  <thead>\n",
              "    <tr style=\"text-align: right;\">\n",
              "      <th></th>\n",
              "      <th>Fecha</th>\n",
              "      <th>Folio</th>\n",
              "      <th>UUID</th>\n",
              "      <th>RFC</th>\n",
              "      <th>Proveedor</th>\n",
              "      <th>TIPO GASTO</th>\n",
              "      <th>Descripción</th>\n",
              "      <th>MP</th>\n",
              "      <th>FP</th>\n",
              "      <th>TC</th>\n",
              "      <th>Importe</th>\n",
              "      <th>IVA</th>\n",
              "      <th>RET ISR</th>\n",
              "      <th>RET IVA</th>\n",
              "      <th>Otros</th>\n",
              "      <th>TOTAL MX</th>\n",
              "      <th>TOTAL SAT</th>\n",
              "      <th>Tipo</th>\n",
              "      <th>Status</th>\n",
              "      <th>Poliza</th>\n",
              "    </tr>\n",
              "  </thead>\n",
              "  <tbody>\n",
              "    <tr>\n",
              "      <th>0</th>\n",
              "      <td>2023-01-01</td>\n",
              "      <td>31</td>\n",
              "      <td>49536321-60A4-523E-A32F-E8BDF5C2276E</td>\n",
              "      <td>AAE6411055P8</td>\n",
              "      <td>AESA ARTICULOS ELECTRICOS</td>\n",
              "      <td>COMPRAS</td>\n",
              "      <td>Pago</td>\n",
              "      <td>NaN</td>\n",
              "      <td>NaN</td>\n",
              "      <td>1.0</td>\n",
              "      <td>0.00</td>\n",
              "      <td>0.00</td>\n",
              "      <td>0.0</td>\n",
              "      <td>0.0</td>\n",
              "      <td>NaN</td>\n",
              "      <td>0.00</td>\n",
              "      <td>0.00</td>\n",
              "      <td>P</td>\n",
              "      <td>Vigente</td>\n",
              "      <td>NaN</td>\n",
              "    </tr>\n",
              "    <tr>\n",
              "      <th>1</th>\n",
              "      <td>2023-01-01</td>\n",
              "      <td>38</td>\n",
              "      <td>20FBB63B-D550-512F-9668-EEC6F983CEB7</td>\n",
              "      <td>AAE6411055P8</td>\n",
              "      <td>AESA ARTICULOS ELECTRICOS</td>\n",
              "      <td>COMPRAS</td>\n",
              "      <td>Pago</td>\n",
              "      <td>NaN</td>\n",
              "      <td>NaN</td>\n",
              "      <td>1.0</td>\n",
              "      <td>0.00</td>\n",
              "      <td>0.00</td>\n",
              "      <td>0.0</td>\n",
              "      <td>0.0</td>\n",
              "      <td>NaN</td>\n",
              "      <td>0.00</td>\n",
              "      <td>0.00</td>\n",
              "      <td>P</td>\n",
              "      <td>Vigente</td>\n",
              "      <td>NaN</td>\n",
              "    </tr>\n",
              "    <tr>\n",
              "      <th>2</th>\n",
              "      <td>2023-01-01</td>\n",
              "      <td>341932</td>\n",
              "      <td>DB8C4388-D4E0-4F0C-A09C-77C773257F44</td>\n",
              "      <td>BLE1512082R9</td>\n",
              "      <td>BEPENSA LEASING S.A. DE C.V.</td>\n",
              "      <td>ARRENDAMIENTO FINANCIERO</td>\n",
              "      <td>AA RENTA EXIGIBLE CL0000006876 30/36 de 03/12/...</td>\n",
              "      <td>PPD</td>\n",
              "      <td>99.0</td>\n",
              "      <td>1.0</td>\n",
              "      <td>5551.38</td>\n",
              "      <td>888.22</td>\n",
              "      <td>0.0</td>\n",
              "      <td>0.0</td>\n",
              "      <td>NaN</td>\n",
              "      <td>6439.60</td>\n",
              "      <td>6439.60</td>\n",
              "      <td>I</td>\n",
              "      <td>Vigente</td>\n",
              "      <td>PE01-ENE23</td>\n",
              "    </tr>\n",
              "    <tr>\n",
              "      <th>3</th>\n",
              "      <td>2023-01-01</td>\n",
              "      <td>341933</td>\n",
              "      <td>A81A63F5-D5EC-4601-803E-375AF9CC5021</td>\n",
              "      <td>BLE1512082R9</td>\n",
              "      <td>BEPENSA LEASING S.A. DE C.V.</td>\n",
              "      <td>ARRENDAMIENTO FINANCIERO</td>\n",
              "      <td>AA RENTA EXIGIBLE CL0000006877 30/36 de 03/12/...</td>\n",
              "      <td>PPD</td>\n",
              "      <td>99.0</td>\n",
              "      <td>1.0</td>\n",
              "      <td>5551.98</td>\n",
              "      <td>888.32</td>\n",
              "      <td>0.0</td>\n",
              "      <td>0.0</td>\n",
              "      <td>NaN</td>\n",
              "      <td>6440.30</td>\n",
              "      <td>6440.30</td>\n",
              "      <td>I</td>\n",
              "      <td>Vigente</td>\n",
              "      <td>PE02-ENE23</td>\n",
              "    </tr>\n",
              "    <tr>\n",
              "      <th>4</th>\n",
              "      <td>2023-01-01</td>\n",
              "      <td>342205</td>\n",
              "      <td>DCC10492-DE51-4C87-8430-5676FBF81931</td>\n",
              "      <td>BLE1512082R9</td>\n",
              "      <td>BEPENSA LEASING S.A. DE C.V.</td>\n",
              "      <td>ARRENDAMIENTO FINANCIERO</td>\n",
              "      <td>AA RENTA EXIGIBLE CL0000009486 5/48 de 03/12/2...</td>\n",
              "      <td>PPD</td>\n",
              "      <td>99.0</td>\n",
              "      <td>1.0</td>\n",
              "      <td>8454.37</td>\n",
              "      <td>1352.70</td>\n",
              "      <td>0.0</td>\n",
              "      <td>0.0</td>\n",
              "      <td>NaN</td>\n",
              "      <td>9807.07</td>\n",
              "      <td>9807.07</td>\n",
              "      <td>I</td>\n",
              "      <td>Vigente</td>\n",
              "      <td>PE03-ENE23</td>\n",
              "    </tr>\n",
              "  </tbody>\n",
              "</table>\n",
              "</div>\n",
              "      <button class=\"colab-df-convert\" onclick=\"convertToInteractive('df-76a61b8c-0b95-46ed-beac-c46ef258a890')\"\n",
              "              title=\"Convert this dataframe to an interactive table.\"\n",
              "              style=\"display:none;\">\n",
              "        \n",
              "  <svg xmlns=\"http://www.w3.org/2000/svg\" height=\"24px\"viewBox=\"0 0 24 24\"\n",
              "       width=\"24px\">\n",
              "    <path d=\"M0 0h24v24H0V0z\" fill=\"none\"/>\n",
              "    <path d=\"M18.56 5.44l.94 2.06.94-2.06 2.06-.94-2.06-.94-.94-2.06-.94 2.06-2.06.94zm-11 1L8.5 8.5l.94-2.06 2.06-.94-2.06-.94L8.5 2.5l-.94 2.06-2.06.94zm10 10l.94 2.06.94-2.06 2.06-.94-2.06-.94-.94-2.06-.94 2.06-2.06.94z\"/><path d=\"M17.41 7.96l-1.37-1.37c-.4-.4-.92-.59-1.43-.59-.52 0-1.04.2-1.43.59L10.3 9.45l-7.72 7.72c-.78.78-.78 2.05 0 2.83L4 21.41c.39.39.9.59 1.41.59.51 0 1.02-.2 1.41-.59l7.78-7.78 2.81-2.81c.8-.78.8-2.07 0-2.86zM5.41 20L4 18.59l7.72-7.72 1.47 1.35L5.41 20z\"/>\n",
              "  </svg>\n",
              "      </button>\n",
              "      \n",
              "  <style>\n",
              "    .colab-df-container {\n",
              "      display:flex;\n",
              "      flex-wrap:wrap;\n",
              "      gap: 12px;\n",
              "    }\n",
              "\n",
              "    .colab-df-convert {\n",
              "      background-color: #E8F0FE;\n",
              "      border: none;\n",
              "      border-radius: 50%;\n",
              "      cursor: pointer;\n",
              "      display: none;\n",
              "      fill: #1967D2;\n",
              "      height: 32px;\n",
              "      padding: 0 0 0 0;\n",
              "      width: 32px;\n",
              "    }\n",
              "\n",
              "    .colab-df-convert:hover {\n",
              "      background-color: #E2EBFA;\n",
              "      box-shadow: 0px 1px 2px rgba(60, 64, 67, 0.3), 0px 1px 3px 1px rgba(60, 64, 67, 0.15);\n",
              "      fill: #174EA6;\n",
              "    }\n",
              "\n",
              "    [theme=dark] .colab-df-convert {\n",
              "      background-color: #3B4455;\n",
              "      fill: #D2E3FC;\n",
              "    }\n",
              "\n",
              "    [theme=dark] .colab-df-convert:hover {\n",
              "      background-color: #434B5C;\n",
              "      box-shadow: 0px 1px 3px 1px rgba(0, 0, 0, 0.15);\n",
              "      filter: drop-shadow(0px 1px 2px rgba(0, 0, 0, 0.3));\n",
              "      fill: #FFFFFF;\n",
              "    }\n",
              "  </style>\n",
              "\n",
              "      <script>\n",
              "        const buttonEl =\n",
              "          document.querySelector('#df-76a61b8c-0b95-46ed-beac-c46ef258a890 button.colab-df-convert');\n",
              "        buttonEl.style.display =\n",
              "          google.colab.kernel.accessAllowed ? 'block' : 'none';\n",
              "\n",
              "        async function convertToInteractive(key) {\n",
              "          const element = document.querySelector('#df-76a61b8c-0b95-46ed-beac-c46ef258a890');\n",
              "          const dataTable =\n",
              "            await google.colab.kernel.invokeFunction('convertToInteractive',\n",
              "                                                     [key], {});\n",
              "          if (!dataTable) return;\n",
              "\n",
              "          const docLinkHtml = 'Like what you see? Visit the ' +\n",
              "            '<a target=\"_blank\" href=https://colab.research.google.com/notebooks/data_table.ipynb>data table notebook</a>'\n",
              "            + ' to learn more about interactive tables.';\n",
              "          element.innerHTML = '';\n",
              "          dataTable['output_type'] = 'display_data';\n",
              "          await google.colab.output.renderOutput(dataTable, element);\n",
              "          const docLink = document.createElement('div');\n",
              "          docLink.innerHTML = docLinkHtml;\n",
              "          element.appendChild(docLink);\n",
              "        }\n",
              "      </script>\n",
              "    </div>\n",
              "  </div>\n",
              "  "
            ]
          },
          "metadata": {},
          "execution_count": 87
        }
      ]
    },
    {
      "cell_type": "markdown",
      "source": [
        "## **VALORES NULOS**"
      ],
      "metadata": {
        "id": "SpgGZlPWVijR"
      }
    },
    {
      "cell_type": "code",
      "source": [
        "#CORROBORAR LOS VALORES NULOS INICIALES\n",
        "valores_nulos=g23.isnull().sum()\n",
        "valores_nulos"
      ],
      "metadata": {
        "colab": {
          "base_uri": "https://localhost:8080/"
        },
        "id": "mNlTSezxVlHo",
        "outputId": "5ce6f6a0-db25-495f-9cb0-548e47056287"
      },
      "execution_count": 88,
      "outputs": [
        {
          "output_type": "execute_result",
          "data": {
            "text/plain": [
              "Fecha            0\n",
              "Folio           13\n",
              "UUID             0\n",
              "RFC              0\n",
              "Proveedor        0\n",
              "TIPO GASTO       8\n",
              "Descripción      0\n",
              "MP              71\n",
              "FP              71\n",
              "TC               0\n",
              "Importe          0\n",
              "IVA              0\n",
              "RET ISR          0\n",
              "RET IVA          0\n",
              "Otros          397\n",
              "TOTAL MX         0\n",
              "TOTAL SAT        0\n",
              "Tipo             0\n",
              "Status           0\n",
              "Poliza         115\n",
              "dtype: int64"
            ]
          },
          "metadata": {},
          "execution_count": 88
        }
      ]
    },
    {
      "cell_type": "code",
      "source": [
        "#Reemplazar los valores de folio por 0\n",
        "g23['Folio'] = g23['Folio'] .fillna(0)"
      ],
      "metadata": {
        "id": "odVxOhLqXOdq"
      },
      "execution_count": 89,
      "outputs": []
    },
    {
      "cell_type": "code",
      "source": [
        "#CORROBORAR LOS VALORES NULOS\n",
        "valores_nulos=g23.isnull().sum()\n",
        "valores_nulos"
      ],
      "metadata": {
        "colab": {
          "base_uri": "https://localhost:8080/"
        },
        "id": "QNIBv9P6X35O",
        "outputId": "84c38d02-f67e-48f6-adbd-51958a754ed8"
      },
      "execution_count": 90,
      "outputs": [
        {
          "output_type": "execute_result",
          "data": {
            "text/plain": [
              "Fecha            0\n",
              "Folio            0\n",
              "UUID             0\n",
              "RFC              0\n",
              "Proveedor        0\n",
              "TIPO GASTO       8\n",
              "Descripción      0\n",
              "MP              71\n",
              "FP              71\n",
              "TC               0\n",
              "Importe          0\n",
              "IVA              0\n",
              "RET ISR          0\n",
              "RET IVA          0\n",
              "Otros          397\n",
              "TOTAL MX         0\n",
              "TOTAL SAT        0\n",
              "Tipo             0\n",
              "Status           0\n",
              "Poliza         115\n",
              "dtype: int64"
            ]
          },
          "metadata": {},
          "execution_count": 90
        }
      ]
    },
    {
      "cell_type": "code",
      "source": [
        "#Reemplazar los valores de Tipo de gasto por \"--\"\n",
        "g23['TIPO GASTO'] = g23['TIPO GASTO'] .fillna('--')"
      ],
      "metadata": {
        "id": "zx4NloRKYMyd"
      },
      "execution_count": 91,
      "outputs": []
    },
    {
      "cell_type": "code",
      "source": [
        "#CORROBORAR LOS VALORES NULOS\n",
        "valores_nulos=g23.isnull().sum()\n",
        "valores_nulos"
      ],
      "metadata": {
        "colab": {
          "base_uri": "https://localhost:8080/"
        },
        "id": "zHSY0k78YS-v",
        "outputId": "0f48fd97-ba67-4664-ad28-0e886ad291f9"
      },
      "execution_count": 92,
      "outputs": [
        {
          "output_type": "execute_result",
          "data": {
            "text/plain": [
              "Fecha            0\n",
              "Folio            0\n",
              "UUID             0\n",
              "RFC              0\n",
              "Proveedor        0\n",
              "TIPO GASTO       0\n",
              "Descripción      0\n",
              "MP              71\n",
              "FP              71\n",
              "TC               0\n",
              "Importe          0\n",
              "IVA              0\n",
              "RET ISR          0\n",
              "RET IVA          0\n",
              "Otros          397\n",
              "TOTAL MX         0\n",
              "TOTAL SAT        0\n",
              "Tipo             0\n",
              "Status           0\n",
              "Poliza         115\n",
              "dtype: int64"
            ]
          },
          "metadata": {},
          "execution_count": 92
        }
      ]
    },
    {
      "cell_type": "code",
      "source": [
        "#Reemplazar los valores de MP por \"--\"\n",
        "g23['MP'] = g23['MP'] .fillna('--')"
      ],
      "metadata": {
        "id": "GGl2pgXlYZ65"
      },
      "execution_count": 93,
      "outputs": []
    },
    {
      "cell_type": "code",
      "source": [
        "#CORROBORAR LOS VALORES NULOS\n",
        "valores_nulos=g23.isnull().sum()\n",
        "valores_nulos"
      ],
      "metadata": {
        "colab": {
          "base_uri": "https://localhost:8080/"
        },
        "id": "n88jJsh-YZ-D",
        "outputId": "25d616c4-9bd4-4f7b-deb0-54c2b9bc935f"
      },
      "execution_count": 94,
      "outputs": [
        {
          "output_type": "execute_result",
          "data": {
            "text/plain": [
              "Fecha            0\n",
              "Folio            0\n",
              "UUID             0\n",
              "RFC              0\n",
              "Proveedor        0\n",
              "TIPO GASTO       0\n",
              "Descripción      0\n",
              "MP               0\n",
              "FP              71\n",
              "TC               0\n",
              "Importe          0\n",
              "IVA              0\n",
              "RET ISR          0\n",
              "RET IVA          0\n",
              "Otros          397\n",
              "TOTAL MX         0\n",
              "TOTAL SAT        0\n",
              "Tipo             0\n",
              "Status           0\n",
              "Poliza         115\n",
              "dtype: int64"
            ]
          },
          "metadata": {},
          "execution_count": 94
        }
      ]
    },
    {
      "cell_type": "code",
      "source": [
        "#Reemplazar los valores de FP por \"--\"\n",
        "g23['FP'] = g23['FP'] .fillna('--')"
      ],
      "metadata": {
        "id": "7nopIHSeYaBU"
      },
      "execution_count": 95,
      "outputs": []
    },
    {
      "cell_type": "code",
      "source": [
        "#CORROBORAR LOS VALORES NULOS\n",
        "valores_nulos=g23.isnull().sum()\n",
        "valores_nulos"
      ],
      "metadata": {
        "colab": {
          "base_uri": "https://localhost:8080/"
        },
        "id": "wl4BOW6DYaEV",
        "outputId": "ac1b26f9-7d89-4d4c-bc12-435225f93194"
      },
      "execution_count": 96,
      "outputs": [
        {
          "output_type": "execute_result",
          "data": {
            "text/plain": [
              "Fecha            0\n",
              "Folio            0\n",
              "UUID             0\n",
              "RFC              0\n",
              "Proveedor        0\n",
              "TIPO GASTO       0\n",
              "Descripción      0\n",
              "MP               0\n",
              "FP               0\n",
              "TC               0\n",
              "Importe          0\n",
              "IVA              0\n",
              "RET ISR          0\n",
              "RET IVA          0\n",
              "Otros          397\n",
              "TOTAL MX         0\n",
              "TOTAL SAT        0\n",
              "Tipo             0\n",
              "Status           0\n",
              "Poliza         115\n",
              "dtype: int64"
            ]
          },
          "metadata": {},
          "execution_count": 96
        }
      ]
    },
    {
      "cell_type": "code",
      "source": [
        "#Reemplazar los valores de la columna Otros por 0\n",
        "g23['Otros'] = g23['Otros'] .fillna(0)"
      ],
      "metadata": {
        "id": "_TWTHaOKYaHr"
      },
      "execution_count": 97,
      "outputs": []
    },
    {
      "cell_type": "code",
      "source": [
        "#CORROBORAR LOS VALORES NULOS\n",
        "valores_nulos=g23.isnull().sum()\n",
        "valores_nulos"
      ],
      "metadata": {
        "colab": {
          "base_uri": "https://localhost:8080/"
        },
        "id": "PA1X2TaDYaKd",
        "outputId": "de0d16be-d99c-4d18-b992-e94b049f2fb7"
      },
      "execution_count": 98,
      "outputs": [
        {
          "output_type": "execute_result",
          "data": {
            "text/plain": [
              "Fecha            0\n",
              "Folio            0\n",
              "UUID             0\n",
              "RFC              0\n",
              "Proveedor        0\n",
              "TIPO GASTO       0\n",
              "Descripción      0\n",
              "MP               0\n",
              "FP               0\n",
              "TC               0\n",
              "Importe          0\n",
              "IVA              0\n",
              "RET ISR          0\n",
              "RET IVA          0\n",
              "Otros            0\n",
              "TOTAL MX         0\n",
              "TOTAL SAT        0\n",
              "Tipo             0\n",
              "Status           0\n",
              "Poliza         115\n",
              "dtype: int64"
            ]
          },
          "metadata": {},
          "execution_count": 98
        }
      ]
    },
    {
      "cell_type": "code",
      "source": [
        "#Reemplazar los valores de FP por \"--\"\n",
        "g23['Poliza'] = g23['Poliza'] .fillna('--')"
      ],
      "metadata": {
        "id": "ro0UIQprYaN6"
      },
      "execution_count": 99,
      "outputs": []
    },
    {
      "cell_type": "code",
      "source": [
        "#CORROBORAR LOS VALORES NULOS\n",
        "valores_nulos=g23.isnull().sum()\n",
        "valores_nulos"
      ],
      "metadata": {
        "colab": {
          "base_uri": "https://localhost:8080/"
        },
        "id": "_8AlUU9gZo7D",
        "outputId": "cf8b220a-136b-4893-a52f-4bb98753fb3c"
      },
      "execution_count": 100,
      "outputs": [
        {
          "output_type": "execute_result",
          "data": {
            "text/plain": [
              "Fecha          0\n",
              "Folio          0\n",
              "UUID           0\n",
              "RFC            0\n",
              "Proveedor      0\n",
              "TIPO GASTO     0\n",
              "Descripción    0\n",
              "MP             0\n",
              "FP             0\n",
              "TC             0\n",
              "Importe        0\n",
              "IVA            0\n",
              "RET ISR        0\n",
              "RET IVA        0\n",
              "Otros          0\n",
              "TOTAL MX       0\n",
              "TOTAL SAT      0\n",
              "Tipo           0\n",
              "Status         0\n",
              "Poliza         0\n",
              "dtype: int64"
            ]
          },
          "metadata": {},
          "execution_count": 100
        }
      ]
    },
    {
      "cell_type": "code",
      "source": [
        "g23.to_csv(\"Gastos y costos 20-23_sin_nulos.csv\")"
      ],
      "metadata": {
        "id": "vhnIDx6RaIQz"
      },
      "execution_count": 101,
      "outputs": []
    },
    {
      "cell_type": "code",
      "source": [
        "from google.colab import files\n",
        "files.download(\"Gastos y costos 20-23_sin_nulos.csv\")"
      ],
      "metadata": {
        "colab": {
          "base_uri": "https://localhost:8080/",
          "height": 17
        },
        "id": "FBb4kOgLaaQ8",
        "outputId": "0c830680-ce55-4d24-d591-a2dc43aa9954"
      },
      "execution_count": 102,
      "outputs": [
        {
          "output_type": "display_data",
          "data": {
            "text/plain": [
              "<IPython.core.display.Javascript object>"
            ],
            "application/javascript": [
              "\n",
              "    async function download(id, filename, size) {\n",
              "      if (!google.colab.kernel.accessAllowed) {\n",
              "        return;\n",
              "      }\n",
              "      const div = document.createElement('div');\n",
              "      const label = document.createElement('label');\n",
              "      label.textContent = `Downloading \"${filename}\": `;\n",
              "      div.appendChild(label);\n",
              "      const progress = document.createElement('progress');\n",
              "      progress.max = size;\n",
              "      div.appendChild(progress);\n",
              "      document.body.appendChild(div);\n",
              "\n",
              "      const buffers = [];\n",
              "      let downloaded = 0;\n",
              "\n",
              "      const channel = await google.colab.kernel.comms.open(id);\n",
              "      // Send a message to notify the kernel that we're ready.\n",
              "      channel.send({})\n",
              "\n",
              "      for await (const message of channel.messages) {\n",
              "        // Send a message to notify the kernel that we're ready.\n",
              "        channel.send({})\n",
              "        if (message.buffers) {\n",
              "          for (const buffer of message.buffers) {\n",
              "            buffers.push(buffer);\n",
              "            downloaded += buffer.byteLength;\n",
              "            progress.value = downloaded;\n",
              "          }\n",
              "        }\n",
              "      }\n",
              "      const blob = new Blob(buffers, {type: 'application/binary'});\n",
              "      const a = document.createElement('a');\n",
              "      a.href = window.URL.createObjectURL(blob);\n",
              "      a.download = filename;\n",
              "      div.appendChild(a);\n",
              "      a.click();\n",
              "      div.remove();\n",
              "    }\n",
              "  "
            ]
          },
          "metadata": {}
        },
        {
          "output_type": "display_data",
          "data": {
            "text/plain": [
              "<IPython.core.display.Javascript object>"
            ],
            "application/javascript": [
              "download(\"download_9c14e834-f67d-4e16-b1da-1b954bba6bb6\", \"Gastos y costos 20-23_sin_nulos.csv\", 87699)"
            ]
          },
          "metadata": {}
        }
      ]
    }
  ]
}